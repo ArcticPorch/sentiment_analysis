{
 "cells": [
  {
   "cell_type": "markdown",
   "id": "8a8c8a9d",
   "metadata": {},
   "source": [
    "# PS3- Sentiment Analysis on product reviews\n",
    "\n",
    "By **Devendra Kumar**\n"
   ]
  },
  {
   "cell_type": "markdown",
   "id": "0ee632c1",
   "metadata": {},
   "source": [
    "\n",
    "Sentiment Classifiers ideally require a lot of data. Here however I have a very small dataset. Due to this, I are using the entire dataset for training. The 130 reviews of test data have been manually labelled by us according to our judgement of the review. We may be wrong as I lack domain specific knowledge. However, in order to test the model, this works well. \n",
    "As dataset is small, I aim for a very high accuracy **(atleast 95%)** on training data, and **atleast a 70% accuracy** on test data (manually labelled test).\n",
    "\n",
    "To analyze unstructured text data, I first converted it into a **Term Frequency- Inverse Document Frequency Matrix (TF-IDF Matrix)**. We have tried many algorithms used for classification- MLP, Logistic Regression, SVM, Decision trees etc.\n",
    "\n",
    "In the end the Random Forest classifier emerged as the winner among all these.\n",
    "\n",
    "**Important** : The predictions I have submitted are the ones given by the best model that I have trained, not the manually labelled test data used as validation data in the below algorithms"
   ]
  },
  {
   "cell_type": "markdown",
   "id": "739cdfe0",
   "metadata": {},
   "source": [
    "## Table of Contents:\n",
    "* [Importing Libraries](#first-bullet)\n",
    "* [Loading the dataset](#eleventh-bullet)\n",
    "* [Cleaning the text](#second-bullet)\n",
    "* [Lemmatization of reviews](#third-bullet)\n",
    "* [Creating TF-IDF matrix](#fourth-bullet)\n",
    "* [Vader Score Analysis](#twelfth-bullet)\n",
    "* [Multi-layer Perceptron](#fifth-bullet)\n",
    "* [Logistic Regression](#sixth-bullet)\n",
    "* [SVM classifier](#seventh-bullet)\n",
    "* [Decision Tree Classifier](#eighth-bullet)\n",
    "* [Random Forest Classifier](#ninth-bullet)\n",
    "* [XGBoost Classifier](#tenth-bullet)\n",
    "* [Conclusion](#thirteenth-bullet)\n",
    "* [Summary of negative reviews](#fourteenth-bullet) \n",
    "\n",
    "\n"
   ]
  },
  {
   "cell_type": "markdown",
   "id": "3538a62e",
   "metadata": {},
   "source": [
    "## Importing libraries <a class=\"anchor\" id=\"first-bullet\"></a>"
   ]
  },
  {
   "cell_type": "code",
   "execution_count": null,
   "id": "e7644e20",
   "metadata": {},
   "outputs": [],
   "source": [
    "import nltk\n",
    "import numpy as np\n",
    "import pandas as pd\n",
    "import sklearn"
   ]
  },
  {
   "cell_type": "code",
   "execution_count": null,
   "id": "f4fde305",
   "metadata": {},
   "outputs": [],
   "source": [
    "import tensorflow as tf"
   ]
  },
  {
   "cell_type": "markdown",
   "id": "6135d9f6",
   "metadata": {},
   "source": [
    "## Loading dataset <a class ='anchor' id=\"eleventh-bullet\"></a>"
   ]
  },
  {
   "cell_type": "code",
   "execution_count": null,
   "id": "372126b8",
   "metadata": {},
   "outputs": [],
   "source": [
    "df = pd.read_excel('train_ps3.xlsx')"
   ]
  },
  {
   "cell_type": "code",
   "execution_count": null,
   "id": "180d9b02",
   "metadata": {},
   "outputs": [
    {
     "data": {
      "text/html": [
       "<div>\n",
       "<style scoped>\n",
       "    .dataframe tbody tr th:only-of-type {\n",
       "        vertical-align: middle;\n",
       "    }\n",
       "\n",
       "    .dataframe tbody tr th {\n",
       "        vertical-align: top;\n",
       "    }\n",
       "\n",
       "    .dataframe thead th {\n",
       "        text-align: right;\n",
       "    }\n",
       "</style>\n",
       "<table border=\"1\" class=\"dataframe\">\n",
       "  <thead>\n",
       "    <tr style=\"text-align: right;\">\n",
       "      <th></th>\n",
       "      <th>Product</th>\n",
       "      <th>Job Role</th>\n",
       "      <th>Verbatim Feedback</th>\n",
       "      <th>Sentiment (1=Positive &amp; 0= Negative)</th>\n",
       "    </tr>\n",
       "  </thead>\n",
       "  <tbody>\n",
       "    <tr>\n",
       "      <th>0</th>\n",
       "      <td>IX</td>\n",
       "      <td>XYZ</td>\n",
       "      <td>There is no  maintenance menu</td>\n",
       "      <td>0</td>\n",
       "    </tr>\n",
       "    <tr>\n",
       "      <th>1</th>\n",
       "      <td>IX</td>\n",
       "      <td>Architect</td>\n",
       "      <td>Very buggy.</td>\n",
       "      <td>0</td>\n",
       "    </tr>\n",
       "    <tr>\n",
       "      <th>2</th>\n",
       "      <td>IX</td>\n",
       "      <td>PQR</td>\n",
       "      <td>High quality -  standards</td>\n",
       "      <td>1</td>\n",
       "    </tr>\n",
       "    <tr>\n",
       "      <th>3</th>\n",
       "      <td>IX</td>\n",
       "      <td>Sales Specialist</td>\n",
       "      <td>Features missing</td>\n",
       "      <td>0</td>\n",
       "    </tr>\n",
       "    <tr>\n",
       "      <th>4</th>\n",
       "      <td>IX</td>\n",
       "      <td>Architect</td>\n",
       "      <td>how to do the inter-working</td>\n",
       "      <td>0</td>\n",
       "    </tr>\n",
       "    <tr>\n",
       "      <th>...</th>\n",
       "      <td>...</td>\n",
       "      <td>...</td>\n",
       "      <td>...</td>\n",
       "      <td>...</td>\n",
       "    </tr>\n",
       "    <tr>\n",
       "      <th>382</th>\n",
       "      <td>QK</td>\n",
       "      <td>TECHNICAL LEADER.CUSTOMER Executive</td>\n",
       "      <td>uninteresting GUI</td>\n",
       "      <td>0</td>\n",
       "    </tr>\n",
       "    <tr>\n",
       "      <th>383</th>\n",
       "      <td>QK</td>\n",
       "      <td>Engineer - Customer Support</td>\n",
       "      <td>UI is interactive</td>\n",
       "      <td>1</td>\n",
       "    </tr>\n",
       "    <tr>\n",
       "      <th>384</th>\n",
       "      <td>QK</td>\n",
       "      <td>TECHNICAL LEADER.CUSTOMER Executive</td>\n",
       "      <td>Totally instable.. Enginieering quallity has d...</td>\n",
       "      <td>0</td>\n",
       "    </tr>\n",
       "    <tr>\n",
       "      <th>385</th>\n",
       "      <td>QK</td>\n",
       "      <td>Support.CUSTOMER Executive</td>\n",
       "      <td>Lack of work around this</td>\n",
       "      <td>0</td>\n",
       "    </tr>\n",
       "    <tr>\n",
       "      <th>386</th>\n",
       "      <td>QK</td>\n",
       "      <td>TECHNICAL LEADER.CUSTOMER Executive</td>\n",
       "      <td>The platform is been wide deploy This trigger ...</td>\n",
       "      <td>0</td>\n",
       "    </tr>\n",
       "  </tbody>\n",
       "</table>\n",
       "<p>387 rows × 4 columns</p>\n",
       "</div>"
      ],
      "text/plain": [
       "    Product                               Job Role  \\\n",
       "0          IX                                  XYZ   \n",
       "1          IX                            Architect   \n",
       "2          IX                                  PQR   \n",
       "3          IX                     Sales Specialist   \n",
       "4          IX                            Architect   \n",
       "..        ...                                  ...   \n",
       "382        QK  TECHNICAL LEADER.CUSTOMER Executive   \n",
       "383        QK          Engineer - Customer Support   \n",
       "384        QK  TECHNICAL LEADER.CUSTOMER Executive   \n",
       "385        QK           Support.CUSTOMER Executive   \n",
       "386        QK  TECHNICAL LEADER.CUSTOMER Executive   \n",
       "\n",
       "                                    Verbatim Feedback   \\\n",
       "0                        There is no  maintenance menu   \n",
       "1                                          Very buggy.   \n",
       "2                            High quality -  standards   \n",
       "3                                     Features missing   \n",
       "4                          how to do the inter-working   \n",
       "..                                                 ...   \n",
       "382                                  uninteresting GUI   \n",
       "383                                  UI is interactive   \n",
       "384  Totally instable.. Enginieering quallity has d...   \n",
       "385                           Lack of work around this   \n",
       "386  The platform is been wide deploy This trigger ...   \n",
       "\n",
       "     Sentiment (1=Positive & 0= Negative)  \n",
       "0                                       0  \n",
       "1                                       0  \n",
       "2                                       1  \n",
       "3                                       0  \n",
       "4                                       0  \n",
       "..                                    ...  \n",
       "382                                     0  \n",
       "383                                     1  \n",
       "384                                     0  \n",
       "385                                     0  \n",
       "386                                     0  \n",
       "\n",
       "[387 rows x 4 columns]"
      ]
     },
     "execution_count": 323,
     "metadata": {},
     "output_type": "execute_result"
    }
   ],
   "source": [
    "df"
   ]
  },
  {
   "cell_type": "code",
   "execution_count": null,
   "id": "ffdb309d",
   "metadata": {
    "scrolled": true
   },
   "outputs": [
    {
     "data": {
      "text/html": [
       "<div>\n",
       "<style scoped>\n",
       "    .dataframe tbody tr th:only-of-type {\n",
       "        vertical-align: middle;\n",
       "    }\n",
       "\n",
       "    .dataframe tbody tr th {\n",
       "        vertical-align: top;\n",
       "    }\n",
       "\n",
       "    .dataframe thead th {\n",
       "        text-align: right;\n",
       "    }\n",
       "</style>\n",
       "<table border=\"1\" class=\"dataframe\">\n",
       "  <thead>\n",
       "    <tr style=\"text-align: right;\">\n",
       "      <th></th>\n",
       "      <th>Sentiment (1=Positive &amp; 0= Negative)</th>\n",
       "    </tr>\n",
       "  </thead>\n",
       "  <tbody>\n",
       "    <tr>\n",
       "      <th>count</th>\n",
       "      <td>387.000000</td>\n",
       "    </tr>\n",
       "    <tr>\n",
       "      <th>mean</th>\n",
       "      <td>0.449612</td>\n",
       "    </tr>\n",
       "    <tr>\n",
       "      <th>std</th>\n",
       "      <td>0.498099</td>\n",
       "    </tr>\n",
       "    <tr>\n",
       "      <th>min</th>\n",
       "      <td>0.000000</td>\n",
       "    </tr>\n",
       "    <tr>\n",
       "      <th>25%</th>\n",
       "      <td>0.000000</td>\n",
       "    </tr>\n",
       "    <tr>\n",
       "      <th>50%</th>\n",
       "      <td>0.000000</td>\n",
       "    </tr>\n",
       "    <tr>\n",
       "      <th>75%</th>\n",
       "      <td>1.000000</td>\n",
       "    </tr>\n",
       "    <tr>\n",
       "      <th>max</th>\n",
       "      <td>1.000000</td>\n",
       "    </tr>\n",
       "  </tbody>\n",
       "</table>\n",
       "</div>"
      ],
      "text/plain": [
       "       Sentiment (1=Positive & 0= Negative)\n",
       "count                            387.000000\n",
       "mean                               0.449612\n",
       "std                                0.498099\n",
       "min                                0.000000\n",
       "25%                                0.000000\n",
       "50%                                0.000000\n",
       "75%                                1.000000\n",
       "max                                1.000000"
      ]
     },
     "execution_count": 324,
     "metadata": {},
     "output_type": "execute_result"
    }
   ],
   "source": [
    "df.describe()"
   ]
  },
  {
   "cell_type": "code",
   "execution_count": null,
   "id": "3b4d06f0",
   "metadata": {
    "scrolled": true
   },
   "outputs": [
    {
     "name": "stdout",
     "output_type": "stream",
     "text": [
      "The proportion of positive examples is: 0.4496124031007752\n",
      "The proportion of negative examples is: 0.5503875968992248\n"
     ]
    }
   ],
   "source": [
    "print('The proportion of positive examples is: '+ str(df.loc[df.iloc[:,3]==1].shape[0]/df.shape[0]))\n",
    "print('The proportion of negative examples is: '+ str(df.loc[df.iloc[:,3]==0].shape[0]/df.shape[0]))"
   ]
  },
  {
   "cell_type": "markdown",
   "id": "b9446291",
   "metadata": {},
   "source": [
    "The dataset is skewed negatively. This is a disadvantage that may impact the F1 score"
   ]
  },
  {
   "cell_type": "code",
   "execution_count": null,
   "id": "ea3d8ebb",
   "metadata": {},
   "outputs": [],
   "source": [
    "unique_job_roles = (df.iloc[:,1].unique())"
   ]
  },
  {
   "cell_type": "code",
   "execution_count": null,
   "id": "b1918ce2",
   "metadata": {},
   "outputs": [],
   "source": [
    "ar = unique_job_roles"
   ]
  },
  {
   "cell_type": "code",
   "execution_count": null,
   "id": "9598a72a",
   "metadata": {},
   "outputs": [],
   "source": [
    "roles = {}\n",
    "i = 0\n",
    "for role in ar:\n",
    "    roles[role] = i\n",
    "    i+=1"
   ]
  },
  {
   "cell_type": "code",
   "execution_count": null,
   "id": "7b009f04",
   "metadata": {},
   "outputs": [],
   "source": [
    "add_on = np.zeros((387,55))\n",
    "for i in range(387):\n",
    "    add_on[i,roles[df.iloc[i,1]]] = 1"
   ]
  },
  {
   "cell_type": "code",
   "execution_count": null,
   "id": "ba445cf2",
   "metadata": {},
   "outputs": [],
   "source": [
    "add_on_test = np.zeros((130,55))\n",
    "for i in range(130):\n",
    "\n",
    "    if test.iloc[i,1] in roles:\n",
    "        add_on_test[i,roles[test.iloc[i,1]]] = 1\n",
    "        \n",
    "    "
   ]
  },
  {
   "cell_type": "code",
   "execution_count": null,
   "id": "da9534bc",
   "metadata": {},
   "outputs": [
    {
     "data": {
      "text/plain": [
       "(130, 55)"
      ]
     },
     "execution_count": 331,
     "metadata": {},
     "output_type": "execute_result"
    }
   ],
   "source": [
    "add_on_test.shape"
   ]
  },
  {
   "cell_type": "code",
   "execution_count": null,
   "id": "126afc85",
   "metadata": {},
   "outputs": [],
   "source": [
    "reviews  = df.iloc[:,2]"
   ]
  },
  {
   "cell_type": "code",
   "execution_count": null,
   "id": "ab942c0b",
   "metadata": {},
   "outputs": [],
   "source": [
    "sentiments = df.iloc[:,3]"
   ]
  },
  {
   "cell_type": "code",
   "execution_count": null,
   "id": "8ec5fcef",
   "metadata": {},
   "outputs": [],
   "source": [
    "X = reviews.copy(deep = True)\n",
    "Y = sentiments.copy(deep = True)"
   ]
  },
  {
   "cell_type": "code",
   "execution_count": null,
   "id": "44a34d6a",
   "metadata": {},
   "outputs": [],
   "source": [
    "test = pd.read_excel('test_ps3.xlsx')"
   ]
  },
  {
   "cell_type": "code",
   "execution_count": null,
   "id": "fbb5b617",
   "metadata": {},
   "outputs": [
    {
     "data": {
      "text/html": [
       "<div>\n",
       "<style scoped>\n",
       "    .dataframe tbody tr th:only-of-type {\n",
       "        vertical-align: middle;\n",
       "    }\n",
       "\n",
       "    .dataframe tbody tr th {\n",
       "        vertical-align: top;\n",
       "    }\n",
       "\n",
       "    .dataframe thead th {\n",
       "        text-align: right;\n",
       "    }\n",
       "</style>\n",
       "<table border=\"1\" class=\"dataframe\">\n",
       "  <thead>\n",
       "    <tr style=\"text-align: right;\">\n",
       "      <th></th>\n",
       "      <th>Product</th>\n",
       "      <th>Job Role</th>\n",
       "      <th>Verbatim Feedback</th>\n",
       "      <th>Sentiment (1=Positive &amp; 0= Negative)</th>\n",
       "    </tr>\n",
       "  </thead>\n",
       "  <tbody>\n",
       "    <tr>\n",
       "      <th>0</th>\n",
       "      <td>DX</td>\n",
       "      <td>Operations</td>\n",
       "      <td>software releases are always late. Customer-fa...</td>\n",
       "      <td>0</td>\n",
       "    </tr>\n",
       "    <tr>\n",
       "      <th>1</th>\n",
       "      <td>DX</td>\n",
       "      <td>Architect</td>\n",
       "      <td>documantation is wrong</td>\n",
       "      <td>0</td>\n",
       "    </tr>\n",
       "    <tr>\n",
       "      <th>2</th>\n",
       "      <td>DX</td>\n",
       "      <td>Sales Specialist</td>\n",
       "      <td>Nice platform- well managed- not perfect-</td>\n",
       "      <td>1</td>\n",
       "    </tr>\n",
       "    <tr>\n",
       "      <th>3</th>\n",
       "      <td>DX</td>\n",
       "      <td>Architect</td>\n",
       "      <td>lack of features</td>\n",
       "      <td>0</td>\n",
       "    </tr>\n",
       "    <tr>\n",
       "      <th>4</th>\n",
       "      <td>DX</td>\n",
       "      <td>Sales Specialist</td>\n",
       "      <td>Very good Support from BU</td>\n",
       "      <td>1</td>\n",
       "    </tr>\n",
       "    <tr>\n",
       "      <th>...</th>\n",
       "      <td>...</td>\n",
       "      <td>...</td>\n",
       "      <td>...</td>\n",
       "      <td>...</td>\n",
       "    </tr>\n",
       "    <tr>\n",
       "      <th>125</th>\n",
       "      <td>DX</td>\n",
       "      <td>Engineer - Consultant [C]</td>\n",
       "      <td>Nice price/performance.\\n</td>\n",
       "      <td>1</td>\n",
       "    </tr>\n",
       "    <tr>\n",
       "      <th>126</th>\n",
       "      <td>DX</td>\n",
       "      <td>Support</td>\n",
       "      <td>This product is a big change will make more cu...</td>\n",
       "      <td>1</td>\n",
       "    </tr>\n",
       "    <tr>\n",
       "      <th>127</th>\n",
       "      <td>DX</td>\n",
       "      <td>Manager</td>\n",
       "      <td>Insufficient troubleshooting capabilities and ...</td>\n",
       "      <td>0</td>\n",
       "    </tr>\n",
       "    <tr>\n",
       "      <th>128</th>\n",
       "      <td>DX</td>\n",
       "      <td>Engineer - Consultant [C]</td>\n",
       "      <td>Its interesting,</td>\n",
       "      <td>1</td>\n",
       "    </tr>\n",
       "    <tr>\n",
       "      <th>129</th>\n",
       "      <td>DX</td>\n",
       "      <td>Engineer</td>\n",
       "      <td>Installed and configured  differences and limi...</td>\n",
       "      <td>0</td>\n",
       "    </tr>\n",
       "  </tbody>\n",
       "</table>\n",
       "<p>130 rows × 4 columns</p>\n",
       "</div>"
      ],
      "text/plain": [
       "    Product                     Job Role  \\\n",
       "0          DX                 Operations   \n",
       "1          DX                  Architect   \n",
       "2          DX           Sales Specialist   \n",
       "3          DX                  Architect   \n",
       "4          DX           Sales Specialist   \n",
       "..        ...                        ...   \n",
       "125        DX  Engineer - Consultant [C]   \n",
       "126        DX                    Support   \n",
       "127        DX                    Manager   \n",
       "128        DX  Engineer - Consultant [C]   \n",
       "129        DX                   Engineer   \n",
       "\n",
       "                                    Verbatim Feedback   \\\n",
       "0    software releases are always late. Customer-fa...   \n",
       "1                              documantation is wrong    \n",
       "2           Nice platform- well managed- not perfect-    \n",
       "3                                    lack of features    \n",
       "4                            Very good Support from BU   \n",
       "..                                                 ...   \n",
       "125                          Nice price/performance.\\n   \n",
       "126  This product is a big change will make more cu...   \n",
       "127  Insufficient troubleshooting capabilities and ...   \n",
       "128                                   Its interesting,   \n",
       "129  Installed and configured  differences and limi...   \n",
       "\n",
       "     Sentiment (1=Positive & 0= Negative)  \n",
       "0                                       0  \n",
       "1                                       0  \n",
       "2                                       1  \n",
       "3                                       0  \n",
       "4                                       1  \n",
       "..                                    ...  \n",
       "125                                     1  \n",
       "126                                     1  \n",
       "127                                     0  \n",
       "128                                     1  \n",
       "129                                     0  \n",
       "\n",
       "[130 rows x 4 columns]"
      ]
     },
     "execution_count": 515,
     "metadata": {},
     "output_type": "execute_result"
    }
   ],
   "source": [
    "test"
   ]
  },
  {
   "cell_type": "code",
   "execution_count": null,
   "id": "c0cd4c90",
   "metadata": {},
   "outputs": [],
   "source": [
    "reviews_test = test.iloc[:,2]\n",
    "sentiments_test = test.iloc[:,3]"
   ]
  },
  {
   "cell_type": "markdown",
   "id": "0657d546",
   "metadata": {},
   "source": [
    "After loading the libraries and the dataset, we assign the sentences to X and the sentiment value to Y"
   ]
  },
  {
   "cell_type": "markdown",
   "id": "800dee79",
   "metadata": {},
   "source": [
    "## Cleaning the text  <a class ='anchor' id=\"second-bullet\"></a>"
   ]
  },
  {
   "cell_type": "code",
   "execution_count": null,
   "id": "d9369e94",
   "metadata": {},
   "outputs": [],
   "source": [
    "from nltk.corpus import stopwords\n",
    "stopwords = stopwords.words('english')"
   ]
  },
  {
   "cell_type": "code",
   "execution_count": null,
   "id": "3e458331",
   "metadata": {},
   "outputs": [],
   "source": [
    "stopwords.remove('not')\n",
    "stopwords.remove('no')"
   ]
  },
  {
   "cell_type": "code",
   "execution_count": null,
   "id": "caa608ee",
   "metadata": {},
   "outputs": [],
   "source": [
    "def cleaner(sents):\n",
    "    ''' This function performs basic text cleaning - lower-casing, removing punctuations, and verb contractions. It also removes stopwords loaded from nltk \n",
    "    Input is a list of sentences and Output is a list of the cleaned sentences'''\n",
    "    \n",
    "    sents = [x.lower() for x in sents]\n",
    "    out = []\n",
    "    for sent in sents:\n",
    "        clean_words = []\n",
    "        l = sent.split()\n",
    "        for word in l:\n",
    "            if word == \"isn't\":\n",
    "                word = 'is not'\n",
    "            if word == \"can't\":\n",
    "                word = 'cannot'\n",
    "            if word == \"won't\":\n",
    "                word = 'will not'\n",
    "            if word == \"shouldn't\":\n",
    "                word = 'should not'\n",
    "            if word == \"aren't\":\n",
    "                word = 'are not'\n",
    "            if word == \"couldn't\":\n",
    "                word = 'could not'\n",
    "            if word == \"didn't\":\n",
    "                word = 'did not'\n",
    "            if word == \"it's\":\n",
    "                word = 'it is'\n",
    "            if word == \"i've\":\n",
    "                word = \"i have\"\n",
    "            if word == \"we've\":\n",
    "                word = 'we have'\n",
    "            if word == \"hadn't\":\n",
    "                word = 'had not'\n",
    "            if word == \"weren't\":\n",
    "                word = 'were not'\n",
    "            if word in stopwords:\n",
    "                word = ''\n",
    "            \n",
    "            clean_words.append(word)\n",
    "        out.append(' '.join(clean_words))\n",
    "\n",
    "    out1 = []\n",
    "    for sent in out:\n",
    "        s = sent\n",
    "        if '\\n' in sent:\n",
    "            s = sent.replace('\\n','.')\n",
    "        out1.append(s)\n",
    "\n",
    "    out2 = []\n",
    "    for sent in out1:\n",
    "        s = sent\n",
    "        for char in '.?/\\|,:;)-_(':\n",
    "            if char in sent:\n",
    "            \n",
    "                s = sent.replace(char,' ')\n",
    "        \n",
    "        out2.append(s)\n",
    "            \n",
    "    return out2\n",
    "    "
   ]
  },
  {
   "cell_type": "code",
   "execution_count": null,
   "id": "0a56471d",
   "metadata": {},
   "outputs": [],
   "source": []
  },
  {
   "cell_type": "code",
   "execution_count": null,
   "id": "2caed55f",
   "metadata": {},
   "outputs": [],
   "source": [
    "from nltk.stem import WordNetLemmatizer\n",
    "lemmatizer = WordNetLemmatizer()"
   ]
  },
  {
   "cell_type": "code",
   "execution_count": null,
   "id": "35111db9",
   "metadata": {},
   "outputs": [],
   "source": [
    "X = cleaner(X)"
   ]
  },
  {
   "cell_type": "code",
   "execution_count": null,
   "id": "c7f0c4b2",
   "metadata": {},
   "outputs": [],
   "source": [
    "reviews_test = cleaner(reviews_test)"
   ]
  },
  {
   "cell_type": "code",
   "execution_count": null,
   "id": "6a7871e3",
   "metadata": {},
   "outputs": [
    {
     "data": {
      "text/plain": [
       "['no maintenance menu',\n",
       " 'buggy',\n",
       " 'high quality standards',\n",
       " 'features missing',\n",
       " 'inter working',\n",
       " 'high price pre aggregation role',\n",
       " 'not much deployed',\n",
       " 'overall throughput constrained',\n",
       " 'feels like product step child concerned gone shortly',\n",
       " 'problem always constant',\n",
       " 'great upgrade',\n",
       " 'improve overall keep good work',\n",
       " 'no issues observed',\n",
       " 'ongoing issues far  issues reported far customer',\n",
       " 'many bugs make difficult determine whether software hardware',\n",
       " 'lacks documentation unsupported features features combinations',\n",
       " 'no partner maintenance menu',\n",
       " \"sw quality low cannot meet customer's expectation \",\n",
       " 'high quality standards',\n",
       " 'missing feat support newer router build',\n",
       " 'great feature adoption product versatility',\n",
       " 'weakness cab requirements',\n",
       " 'many miss alignment code issue',\n",
       " 'waiting time security feature set',\n",
       " 'easy implement',\n",
       " 'great product advantageous compared competitors however encountering performance issues throughput sometimes',\n",
       " 'many models similar terms interfaces',\n",
       " 'good product',\n",
       " 'good service',\n",
       " 'going well still finding features need incorporated',\n",
       " 'good product',\n",
       " 'missing features',\n",
       " 'critical support granted',\n",
       " 'quality documentation constantly falling behind',\n",
       " 'good support',\n",
       " 'need fix supply chain twelve month lead times killing us',\n",
       " 'moderate service quality',\n",
       " 'low product quality',\n",
       " 'multiple technical hw issues',\n",
       " 'multiple timing system upgrade issues',\n",
       " 'slow inconsistent',\n",
       " 'executive lead times',\n",
       " 'slow',\n",
       " 'product successful customers.while sw quality improved  need continue identify use cases test use cases.',\n",
       " 'convolve one transition',\n",
       " 'full spectrum position front customers',\n",
       " 'good',\n",
       " 'no information inter working',\n",
       " 'different hw different features even clis usually put documentation',\n",
       " 'excellent innovation amazing product evolution support different use cases',\n",
       " 'image certain customer getting angry regular basis',\n",
       " 'good delivery',\n",
       " 'documentation need improved',\n",
       " 'reliable product',\n",
       " 'feeling like good box price point',\n",
       " 'services features rather slow',\n",
       " 'load balancing',\n",
       " 'heard folks costly box limited feature set ',\n",
       " 'scalable deal',\n",
       " 'improve overall keep good work',\n",
       " 'provide parity compared xyz',\n",
       " 'lots bugs',\n",
       " 'customer getting good result',\n",
       " 'silent reload issuessilent reload issues',\n",
       " 'cannot apply workaround',\n",
       " 'excellent innovation amazing product evolution support different use cases',\n",
       " 'good',\n",
       " 'many bugs make difficult determine whether software hardwaret',\n",
       " 'software quality not good many bugs   unstable general',\n",
       " 'port issues',\n",
       " 'hard explain behavior smart licensing',\n",
       " 'product worked well getting result',\n",
       " 'lot bad issues',\n",
       " 'many test realetd failures',\n",
       " 'working fine',\n",
       " 'better upgrade downgrade boot documentation step step details',\n",
       " 'lacks documentation unsupported features features combinations',\n",
       " 'working customer',\n",
       " 'good great product',\n",
       " 'usecase varied',\n",
       " 'product awesome result',\n",
       " 'delivery outcome',\n",
       " 'isno partner maintenance menu',\n",
       " 'experience problem issues',\n",
       " 'software quality issues',\n",
       " 'missing evolution path',\n",
       " 'usage varied',\n",
       " 'execution well',\n",
       " 'new features back forth even not significant changes',\n",
       " 'weakness cab requirements',\n",
       " 'fits requirements price competitive',\n",
       " 'satisfied strong support',\n",
       " 'need watch lot scalability deployment need document scalability issues',\n",
       " 'scale limitations comparing',\n",
       " 'story missing',\n",
       " 'customer getting good result',\n",
       " 'minimum requirements dialed',\n",
       " 'best value money',\n",
       " 'good catchup',\n",
       " 'good',\n",
       " 'working excellent',\n",
       " 'great product competitive commercially',\n",
       " 'need feature set',\n",
       " 'things like lack xyz challenge sometimes',\n",
       " 'challenge implement',\n",
       " 'good   also heard first hand customers partners',\n",
       " 'documentation not clear  different hw different features even clis usually put documentation',\n",
       " 'quality documentation constantly falling behind',\n",
       " 'feel need competitive price',\n",
       " 'executive lead times; error documentation misleading resulting feature gap ',\n",
       " 'false positive compliance potential software upgrade rejection',\n",
       " 'lack several features',\n",
       " 'need close gap',\n",
       " 'buggy',\n",
       " 'need long close',\n",
       " 'issues timing',\n",
       " 'slow inconsistent validation',\n",
       " 'roadmap consistency',\n",
       " 'scaling issuesissues scale',\n",
       " 'put license cannot shared',\n",
       " 'good',\n",
       " 'consistent product',\n",
       " 'excited newer products',\n",
       " 'steady platform',\n",
       " 'stable',\n",
       " 'price performanceflexible pricing structure',\n",
       " 'think overall product line good pretty much box application',\n",
       " 'hardware documents incomplete',\n",
       " 'best value money',\n",
       " 'best value money',\n",
       " 'excellent delivery',\n",
       " 'hardly tools help troubleshoot issue platform',\n",
       " 'heard folks costly box limited feature set ',\n",
       " 'scalable deal',\n",
       " 'nowadays experiencing lot issues',\n",
       " 'good bugs address',\n",
       " 'generally good limited functionality',\n",
       " 'support always',\n",
       " 'harder troubleshoot',\n",
       " 'disadvantage',\n",
       " 'felt good',\n",
       " 'starting get acquainted seems like great addition portfolio',\n",
       " 'think quality improved little little',\n",
       " 'good product not past growing pains ',\n",
       " 'still hit many bugs become driver limitation design deploy',\n",
       " 'bugs different',\n",
       " 'many bugs make difficult determine whether software hardware',\n",
       " 'way way buggy would buy car needs go shop every single week get fixed   lack sw quality.',\n",
       " 'hard get information detail information root cause unknown',\n",
       " 'not price competitive market pre agg role)',\n",
       " 'low product quality',\n",
       " 'many troubles upgrading',\n",
       " 'many basic defects hw',\n",
       " 'although solves customer challenges provides solution not cost effective solution',\n",
       " 'many bugstoo many bugs',\n",
       " 'lack basic features lot bugs',\n",
       " 'found hw issue could sw  lot doc would good centralized',\n",
       " 'fixed',\n",
       " 'needs test boxes properly',\n",
       " 'many glitches many bugs low level',\n",
       " 'poor drop accounting troubleshooting capabilities support pretty much guess work relying boxes network provide missing clues',\n",
       " 'difficulties troubleshooting silent reload type issue',\n",
       " 'good product',\n",
       " 'well executed',\n",
       " 'good product enhanced architecture product also needs time become stable',\n",
       " 'think still bugs considered lack testing software hardware improve',\n",
       " 'dissatisfaction due lack debugability supportability including documentation',\n",
       " 'stable',\n",
       " 'requirements multi dimensional scale greater service providers individual customers',\n",
       " 'release delay',\n",
       " 'endless problems',\n",
       " 'often complicated make properly work features common widespread',\n",
       " 'complicated work',\n",
       " 'many bugs hidden specification restrictions',\n",
       " 'defective hardware',\n",
       " 'cost effective hardware well perceived customers ',\n",
       " 'outcomes highly seen',\n",
       " 'result oriented',\n",
       " 'no improvement',\n",
       " 'need improvement',\n",
       " 'high price point compared competition',\n",
       " 'integration required',\n",
       " 'missing features',\n",
       " 'requires lan port',\n",
       " 'slotting rules cumbersome  many rules',\n",
       " 'defined goals',\n",
       " 'good proposal aggregation',\n",
       " 'great features address specific place network',\n",
       " 'manual features outdated device upgrade issues even addressed impact time delivering constant smus address issues expected come software customer perception low means extra work concessions service teams make work no killer feature helps stand well established products like asr9ktoo many smus features already software base maybe way install without reload forwarding engine router would improve situation',\n",
       " 'not many issue observednew product not seen much used customer',\n",
       " 'insufficient troubleshooting capabilities serviceability submit completely ignored insufficient troubleshooting capabilities serviceability',\n",
       " 'poor scalability',\n",
       " 'upgrade required',\n",
       " 'buggy',\n",
       " 'many bugs',\n",
       " 'compared logic checking painful',\n",
       " 'customer concerned multi dimension scale ',\n",
       " 'outcomes highly seen',\n",
       " 'devices usied migration integration well defined',\n",
       " 'clear documents',\n",
       " 'better upgrade downgrade',\n",
       " 'not supporting features indicated documentation',\n",
       " 'problems implementation',\n",
       " 'many feature command not support making difficult product troubleshoot',\n",
       " 'lack serviceability reliability',\n",
       " 'result oriented',\n",
       " 'looks like many bugs  thoroughly anyway many problems quality unsuitable',\n",
       " 'everything works expected',\n",
       " 'first many issues platform  also debugability feature troubleshoot issue ',\n",
       " 'lack features',\n",
       " 'scalable deal',\n",
       " 'need licensing model public sector utility customers',\n",
       " 'good support',\n",
       " 'nice platform scale needs better explained sold',\n",
       " 'new features development box taking long time released',\n",
       " 'another well positioned product',\n",
       " 'nice experience',\n",
       " 'no issues',\n",
       " 'no issues far customer',\n",
       " 'great service',\n",
       " 'recently engineering feature included',\n",
       " 'lack comunication commitment',\n",
       " 'price effective',\n",
       " 'excellent outcomes',\n",
       " 'limitation network',\n",
       " 'team member fatigue product',\n",
       " 'lack proper external documentation silent reload issues',\n",
       " 'good formfactor good handywork competitive',\n",
       " 'totally instable enginieering quallity dropped lot',\n",
       " 'lack quality 6 6 7 0 aim far improved point ',\n",
       " 'platform wide deploy',\n",
       " 'look manual unclear whether feature supported',\n",
       " 'not yet tested live lab ok support documentation needs effecient ',\n",
       " 'world non realiable product ever seen',\n",
       " 'many defects think tested far know seems worst quality product ',\n",
       " 'many bugs something   quite critical series customer resulted h w replacement.',\n",
       " 'moderate service quality',\n",
       " 'issue resources',\n",
       " 'buggy',\n",
       " 'good feature set perfect pricing high',\n",
       " 'many bugs',\n",
       " 'many issues',\n",
       " 'lot issues j umping one bug another',\n",
       " 'lots missing feature',\n",
       " 'release delayed',\n",
       " 'software quality',\n",
       " 'many deviations models',\n",
       " 'silent reload issue',\n",
       " 'delays features potentially getting not customer expectations',\n",
       " 'good product pricing not best comparing',\n",
       " 'not support',\n",
       " 'handy box helpful development teamfeatures feature limitations',\n",
       " 'product good competition lots variants pricing level ',\n",
       " 'good quality',\n",
       " 'port allocation not met customer requirements',\n",
       " 'cost effective hardware well perceived customers ',\n",
       " 'no comments',\n",
       " 'winning deals  hopefully performs well field',\n",
       " 'customers like box customer issues smart management smart licensing not work well',\n",
       " 'works expected',\n",
       " 'router models modular power supply',\n",
       " 'need optics qualification synergy platforms',\n",
       " 'far good there lot doc  would good centralized ',\n",
       " 'needs test boxes properly',\n",
       " 'poor drop accounting troubleshooting capabilities support pretty much',\n",
       " 'critical features missing',\n",
       " 'improvement needed',\n",
       " 'lack official documentation supported features',\n",
       " 'quality needs improved',\n",
       " 'good product supportive documents',\n",
       " 'liked services',\n",
       " 'think still bugs considered lack testing',\n",
       " 'frequent occurrence work due defective hardware',\n",
       " 'dissatisfaction due lack debugability supportability',\n",
       " 'many defective products',\n",
       " 'issues buggy',\n",
       " 'documentation issue',\n",
       " 'not reliable',\n",
       " 'requirements multi dimensional scale greater release',\n",
       " 'one customer come across problem',\n",
       " 'stable softwaretake much time install software',\n",
       " 'result seen',\n",
       " 'problems chip rest perfect',\n",
       " 'many feature gap',\n",
       " 'issues buggy',\n",
       " 'price point',\n",
       " 'overall good experiencestill needs high discounts competitive',\n",
       " 'winning projects',\n",
       " 'hit roadmap timelines',\n",
       " 'good work',\n",
       " 'instructor lack presentation',\n",
       " 'silent reboots crashes',\n",
       " 'great keep good work',\n",
       " 'great',\n",
       " 'work exactly expected ',\n",
       " 'outcomes great',\n",
       " 'excellent price tag feature richnesslack consistent documentation',\n",
       " 'new models feature parity established models',\n",
       " 'customer dissatisfied low customer experience ',\n",
       " 'due poor implementation changes require customer extra work',\n",
       " 'probably scaled versions boxes',\n",
       " 'need continue driving toward solution',\n",
       " ' cases) impossible determine exactly many needed day 0.',\n",
       " 'still complicated',\n",
       " 'clear documents',\n",
       " 'customer encountered issues',\n",
       " 'new project waiting big picture',\n",
       " 'many variants confuse customers make difficult win business competitorstoo many variants',\n",
       " 'excellent producta good product competing space network price sentitive',\n",
       " 'price effective',\n",
       " 'customer concerned not verified product scale meet customer needs',\n",
       " 'works well',\n",
       " 'good documentation',\n",
       " 'good leads',\n",
       " 'scalability hidden feature limitsclear documentation',\n",
       " 'compared logic checking painful',\n",
       " 'network timingtest coverage',\n",
       " 'cu really not happy',\n",
       " 'work fine',\n",
       " 'cheaper',\n",
       " 'lot issue',\n",
       " 'lack serviceability reliability least properly documented',\n",
       " 'unstable product lot software hardware issue  also scaling issues similar fretta platform hardware software unstable lots issue',\n",
       " 'working implementation yet good device',\n",
       " 'everything works expected',\n",
       " 'good outcomes',\n",
       " 'satisfied strong support',\n",
       " 'overall customer satisfied',\n",
       " 'lot differences behavior',\n",
       " 'wasnt smooth process device went ',\n",
       " 'router took long time upgrade software',\n",
       " 'lose projects',\n",
       " 'overall good access',\n",
       " 'maybe good',\n",
       " 'missing features competition customer needs',\n",
       " 'platform limited many ways',\n",
       " 'new feature box taking long time released',\n",
       " 'recently traffic engineering feature included',\n",
       " 'need platform written',\n",
       " 'good fitting platformperformance',\n",
       " 'weak multicast implementationvery slow limited roadmap execution',\n",
       " 'many bugs feature',\n",
       " 'good fit customer requirements',\n",
       " 'good platform two area',\n",
       " 'unstable',\n",
       " 'meet customer needs',\n",
       " 'release delayed',\n",
       " 'serious competitor price',\n",
       " 'unique features',\n",
       " 'missing support basic features required customer',\n",
       " 'great setup',\n",
       " 'licensing still confusing customers',\n",
       " 'documentation still needs workaround',\n",
       " 'missing features',\n",
       " 'complicates overall upgrade process',\n",
       " 'excellent product',\n",
       " 'perfect little inexpensive love ',\n",
       " 'no issues far',\n",
       " \"poor documentation kills customerste customers believe what's written\",\n",
       " 'shift understanding not clearly explained documented better documentation clearer messaging',\n",
       " 'best box sell right price size form factor need use case documentation',\n",
       " 'issue bundle',\n",
       " 'fixed form factor box good scale',\n",
       " 'unclear documents',\n",
       " 'hardware slowness observed',\n",
       " 'difficult troubleshoot complexity',\n",
       " 'lack service menu',\n",
       " 'lack proper external documentation silent reload issues',\n",
       " 'hardware quality corrupt issue',\n",
       " 'function not good',\n",
       " 'box feels different configuring  tends cause grief',\n",
       " 'missing component',\n",
       " 'missing parts overall good product',\n",
       " 'customer starts issues',\n",
       " 'need approachable solution',\n",
       " 'sw features missing need better scalability',\n",
       " 'lack service menu',\n",
       " 'simple architcture',\n",
       " 'customer progress many issues',\n",
       " 'multicast profile support not avaiable',\n",
       " 'many bugs introduce feature release',\n",
       " 'feature parity need aligned',\n",
       " 'uninteresting gui',\n",
       " 'ui interactive',\n",
       " 'totally instable enginieering quallity dropped lot',\n",
       " 'lack work around',\n",
       " 'platform wide deploy trigger lots escalations']"
      ]
     },
     "execution_count": 528,
     "metadata": {},
     "output_type": "execute_result"
    }
   ],
   "source": [
    "X"
   ]
  },
  {
   "cell_type": "markdown",
   "id": "021e0855",
   "metadata": {},
   "source": [
    "## Lemmatization of reviews  <a class ='anchor' id=\"third-bullet\"></a>"
   ]
  },
  {
   "cell_type": "code",
   "execution_count": null,
   "id": "7a48b5fe",
   "metadata": {},
   "outputs": [],
   "source": [
    "X_lemmatized =[(' '.join([lemmatizer.lemmatize(word, pos = 'a')for word in x.split()])) for x in X]\n",
    "X_lemmatized = [(' '.join([lemmatizer.lemmatize(word, pos = 'v')for word in x.split()])) for x in X]\n",
    "X_lemmatized = [(' '.join([lemmatizer.lemmatize(word, pos = 'n')for word in x.split()])) for x in X]"
   ]
  },
  {
   "cell_type": "code",
   "execution_count": null,
   "id": "a3f14928",
   "metadata": {},
   "outputs": [
    {
     "data": {
      "text/plain": [
       "['no maintenance menu',\n",
       " 'buggy',\n",
       " 'high quality standard',\n",
       " 'feature missing',\n",
       " 'inter working',\n",
       " 'high price pre aggregation role',\n",
       " 'not much deployed',\n",
       " 'overall throughput constrained',\n",
       " 'feel like product step child concerned gone shortly',\n",
       " 'problem always constant',\n",
       " 'great upgrade',\n",
       " 'improve overall keep good work',\n",
       " 'no issue observed',\n",
       " 'ongoing issue far issue reported far customer',\n",
       " 'many bug make difficult determine whether software hardware',\n",
       " 'lack documentation unsupported feature feature combination',\n",
       " 'no partner maintenance menu',\n",
       " \"sw quality low cannot meet customer's expectation\",\n",
       " 'high quality standard',\n",
       " 'missing feat support newer router build',\n",
       " 'great feature adoption product versatility',\n",
       " 'weakness cab requirement',\n",
       " 'many miss alignment code issue',\n",
       " 'waiting time security feature set',\n",
       " 'easy implement',\n",
       " 'great product advantageous compared competitor however encountering performance issue throughput sometimes',\n",
       " 'many model similar term interface',\n",
       " 'good product',\n",
       " 'good service',\n",
       " 'going well still finding feature need incorporated',\n",
       " 'good product',\n",
       " 'missing feature',\n",
       " 'critical support granted',\n",
       " 'quality documentation constantly falling behind',\n",
       " 'good support',\n",
       " 'need fix supply chain twelve month lead time killing u',\n",
       " 'moderate service quality',\n",
       " 'low product quality',\n",
       " 'multiple technical hw issue',\n",
       " 'multiple timing system upgrade issue',\n",
       " 'slow inconsistent',\n",
       " 'executive lead time',\n",
       " 'slow',\n",
       " 'product successful customers.while sw quality improved need continue identify use case test use cases.',\n",
       " 'convolve one transition',\n",
       " 'full spectrum position front customer',\n",
       " 'good',\n",
       " 'no information inter working',\n",
       " 'different hw different feature even cli usually put documentation',\n",
       " 'excellent innovation amazing product evolution support different use case',\n",
       " 'image certain customer getting angry regular basis',\n",
       " 'good delivery',\n",
       " 'documentation need improved',\n",
       " 'reliable product',\n",
       " 'feeling like good box price point',\n",
       " 'service feature rather slow',\n",
       " 'load balancing',\n",
       " 'heard folk costly box limited feature set',\n",
       " 'scalable deal',\n",
       " 'improve overall keep good work',\n",
       " 'provide parity compared xyz',\n",
       " 'lot bug',\n",
       " 'customer getting good result',\n",
       " 'silent reload issuessilent reload issue',\n",
       " 'cannot apply workaround',\n",
       " 'excellent innovation amazing product evolution support different use case',\n",
       " 'good',\n",
       " 'many bug make difficult determine whether software hardwaret',\n",
       " 'software quality not good many bug unstable general',\n",
       " 'port issue',\n",
       " 'hard explain behavior smart licensing',\n",
       " 'product worked well getting result',\n",
       " 'lot bad issue',\n",
       " 'many test realetd failure',\n",
       " 'working fine',\n",
       " 'better upgrade downgrade boot documentation step step detail',\n",
       " 'lack documentation unsupported feature feature combination',\n",
       " 'working customer',\n",
       " 'good great product',\n",
       " 'usecase varied',\n",
       " 'product awesome result',\n",
       " 'delivery outcome',\n",
       " 'isno partner maintenance menu',\n",
       " 'experience problem issue',\n",
       " 'software quality issue',\n",
       " 'missing evolution path',\n",
       " 'usage varied',\n",
       " 'execution well',\n",
       " 'new feature back forth even not significant change',\n",
       " 'weakness cab requirement',\n",
       " 'fit requirement price competitive',\n",
       " 'satisfied strong support',\n",
       " 'need watch lot scalability deployment need document scalability issue',\n",
       " 'scale limitation comparing',\n",
       " 'story missing',\n",
       " 'customer getting good result',\n",
       " 'minimum requirement dialed',\n",
       " 'best value money',\n",
       " 'good catchup',\n",
       " 'good',\n",
       " 'working excellent',\n",
       " 'great product competitive commercially',\n",
       " 'need feature set',\n",
       " 'thing like lack xyz challenge sometimes',\n",
       " 'challenge implement',\n",
       " 'good also heard first hand customer partner',\n",
       " 'documentation not clear different hw different feature even cli usually put documentation',\n",
       " 'quality documentation constantly falling behind',\n",
       " 'feel need competitive price',\n",
       " 'executive lead times; error documentation misleading resulting feature gap',\n",
       " 'false positive compliance potential software upgrade rejection',\n",
       " 'lack several feature',\n",
       " 'need close gap',\n",
       " 'buggy',\n",
       " 'need long close',\n",
       " 'issue timing',\n",
       " 'slow inconsistent validation',\n",
       " 'roadmap consistency',\n",
       " 'scaling issuesissues scale',\n",
       " 'put license cannot shared',\n",
       " 'good',\n",
       " 'consistent product',\n",
       " 'excited newer product',\n",
       " 'steady platform',\n",
       " 'stable',\n",
       " 'price performanceflexible pricing structure',\n",
       " 'think overall product line good pretty much box application',\n",
       " 'hardware document incomplete',\n",
       " 'best value money',\n",
       " 'best value money',\n",
       " 'excellent delivery',\n",
       " 'hardly tool help troubleshoot issue platform',\n",
       " 'heard folk costly box limited feature set',\n",
       " 'scalable deal',\n",
       " 'nowadays experiencing lot issue',\n",
       " 'good bug address',\n",
       " 'generally good limited functionality',\n",
       " 'support always',\n",
       " 'harder troubleshoot',\n",
       " 'disadvantage',\n",
       " 'felt good',\n",
       " 'starting get acquainted seems like great addition portfolio',\n",
       " 'think quality improved little little',\n",
       " 'good product not past growing pain',\n",
       " 'still hit many bug become driver limitation design deploy',\n",
       " 'bug different',\n",
       " 'many bug make difficult determine whether software hardware',\n",
       " 'way way buggy would buy car need go shop every single week get fixed lack sw quality.',\n",
       " 'hard get information detail information root cause unknown',\n",
       " 'not price competitive market pre agg role)',\n",
       " 'low product quality',\n",
       " 'many trouble upgrading',\n",
       " 'many basic defect hw',\n",
       " 'although solves customer challenge provides solution not cost effective solution',\n",
       " 'many bugstoo many bug',\n",
       " 'lack basic feature lot bug',\n",
       " 'found hw issue could sw lot doc would good centralized',\n",
       " 'fixed',\n",
       " 'need test box properly',\n",
       " 'many glitch many bug low level',\n",
       " 'poor drop accounting troubleshooting capability support pretty much guess work relying box network provide missing clue',\n",
       " 'difficulty troubleshooting silent reload type issue',\n",
       " 'good product',\n",
       " 'well executed',\n",
       " 'good product enhanced architecture product also need time become stable',\n",
       " 'think still bug considered lack testing software hardware improve',\n",
       " 'dissatisfaction due lack debugability supportability including documentation',\n",
       " 'stable',\n",
       " 'requirement multi dimensional scale greater service provider individual customer',\n",
       " 'release delay',\n",
       " 'endless problem',\n",
       " 'often complicated make properly work feature common widespread',\n",
       " 'complicated work',\n",
       " 'many bug hidden specification restriction',\n",
       " 'defective hardware',\n",
       " 'cost effective hardware well perceived customer',\n",
       " 'outcome highly seen',\n",
       " 'result oriented',\n",
       " 'no improvement',\n",
       " 'need improvement',\n",
       " 'high price point compared competition',\n",
       " 'integration required',\n",
       " 'missing feature',\n",
       " 'requires lan port',\n",
       " 'slotting rule cumbersome many rule',\n",
       " 'defined goal',\n",
       " 'good proposal aggregation',\n",
       " 'great feature address specific place network',\n",
       " 'manual feature outdated device upgrade issue even addressed impact time delivering constant smus address issue expected come software customer perception low mean extra work concession service team make work no killer feature help stand well established product like asr9ktoo many smus feature already software base maybe way install without reload forwarding engine router would improve situation',\n",
       " 'not many issue observednew product not seen much used customer',\n",
       " 'insufficient troubleshooting capability serviceability submit completely ignored insufficient troubleshooting capability serviceability',\n",
       " 'poor scalability',\n",
       " 'upgrade required',\n",
       " 'buggy',\n",
       " 'many bug',\n",
       " 'compared logic checking painful',\n",
       " 'customer concerned multi dimension scale',\n",
       " 'outcome highly seen',\n",
       " 'device usied migration integration well defined',\n",
       " 'clear document',\n",
       " 'better upgrade downgrade',\n",
       " 'not supporting feature indicated documentation',\n",
       " 'problem implementation',\n",
       " 'many feature command not support making difficult product troubleshoot',\n",
       " 'lack serviceability reliability',\n",
       " 'result oriented',\n",
       " 'look like many bug thoroughly anyway many problem quality unsuitable',\n",
       " 'everything work expected',\n",
       " 'first many issue platform also debugability feature troubleshoot issue',\n",
       " 'lack feature',\n",
       " 'scalable deal',\n",
       " 'need licensing model public sector utility customer',\n",
       " 'good support',\n",
       " 'nice platform scale need better explained sold',\n",
       " 'new feature development box taking long time released',\n",
       " 'another well positioned product',\n",
       " 'nice experience',\n",
       " 'no issue',\n",
       " 'no issue far customer',\n",
       " 'great service',\n",
       " 'recently engineering feature included',\n",
       " 'lack comunication commitment',\n",
       " 'price effective',\n",
       " 'excellent outcome',\n",
       " 'limitation network',\n",
       " 'team member fatigue product',\n",
       " 'lack proper external documentation silent reload issue',\n",
       " 'good formfactor good handywork competitive',\n",
       " 'totally instable enginieering quallity dropped lot',\n",
       " 'lack quality 6 6 7 0 aim far improved point',\n",
       " 'platform wide deploy',\n",
       " 'look manual unclear whether feature supported',\n",
       " 'not yet tested live lab ok support documentation need effecient',\n",
       " 'world non realiable product ever seen',\n",
       " 'many defect think tested far know seems worst quality product',\n",
       " 'many bug something quite critical series customer resulted h w replacement.',\n",
       " 'moderate service quality',\n",
       " 'issue resource',\n",
       " 'buggy',\n",
       " 'good feature set perfect pricing high',\n",
       " 'many bug',\n",
       " 'many issue',\n",
       " 'lot issue j umping one bug another',\n",
       " 'lot missing feature',\n",
       " 'release delayed',\n",
       " 'software quality',\n",
       " 'many deviation model',\n",
       " 'silent reload issue',\n",
       " 'delay feature potentially getting not customer expectation',\n",
       " 'good product pricing not best comparing',\n",
       " 'not support',\n",
       " 'handy box helpful development teamfeatures feature limitation',\n",
       " 'product good competition lot variant pricing level',\n",
       " 'good quality',\n",
       " 'port allocation not met customer requirement',\n",
       " 'cost effective hardware well perceived customer',\n",
       " 'no comment',\n",
       " 'winning deal hopefully performs well field',\n",
       " 'customer like box customer issue smart management smart licensing not work well',\n",
       " 'work expected',\n",
       " 'router model modular power supply',\n",
       " 'need optic qualification synergy platform',\n",
       " 'far good there lot doc would good centralized',\n",
       " 'need test box properly',\n",
       " 'poor drop accounting troubleshooting capability support pretty much',\n",
       " 'critical feature missing',\n",
       " 'improvement needed',\n",
       " 'lack official documentation supported feature',\n",
       " 'quality need improved',\n",
       " 'good product supportive document',\n",
       " 'liked service',\n",
       " 'think still bug considered lack testing',\n",
       " 'frequent occurrence work due defective hardware',\n",
       " 'dissatisfaction due lack debugability supportability',\n",
       " 'many defective product',\n",
       " 'issue buggy',\n",
       " 'documentation issue',\n",
       " 'not reliable',\n",
       " 'requirement multi dimensional scale greater release',\n",
       " 'one customer come across problem',\n",
       " 'stable softwaretake much time install software',\n",
       " 'result seen',\n",
       " 'problem chip rest perfect',\n",
       " 'many feature gap',\n",
       " 'issue buggy',\n",
       " 'price point',\n",
       " 'overall good experiencestill need high discount competitive',\n",
       " 'winning project',\n",
       " 'hit roadmap timeline',\n",
       " 'good work',\n",
       " 'instructor lack presentation',\n",
       " 'silent reboots crash',\n",
       " 'great keep good work',\n",
       " 'great',\n",
       " 'work exactly expected',\n",
       " 'outcome great',\n",
       " 'excellent price tag feature richnesslack consistent documentation',\n",
       " 'new model feature parity established model',\n",
       " 'customer dissatisfied low customer experience',\n",
       " 'due poor implementation change require customer extra work',\n",
       " 'probably scaled version box',\n",
       " 'need continue driving toward solution',\n",
       " 'cases) impossible determine exactly many needed day 0.',\n",
       " 'still complicated',\n",
       " 'clear document',\n",
       " 'customer encountered issue',\n",
       " 'new project waiting big picture',\n",
       " 'many variant confuse customer make difficult win business competitorstoo many variant',\n",
       " 'excellent producta good product competing space network price sentitive',\n",
       " 'price effective',\n",
       " 'customer concerned not verified product scale meet customer need',\n",
       " 'work well',\n",
       " 'good documentation',\n",
       " 'good lead',\n",
       " 'scalability hidden feature limitsclear documentation',\n",
       " 'compared logic checking painful',\n",
       " 'network timingtest coverage',\n",
       " 'cu really not happy',\n",
       " 'work fine',\n",
       " 'cheaper',\n",
       " 'lot issue',\n",
       " 'lack serviceability reliability least properly documented',\n",
       " 'unstable product lot software hardware issue also scaling issue similar fretta platform hardware software unstable lot issue',\n",
       " 'working implementation yet good device',\n",
       " 'everything work expected',\n",
       " 'good outcome',\n",
       " 'satisfied strong support',\n",
       " 'overall customer satisfied',\n",
       " 'lot difference behavior',\n",
       " 'wasnt smooth process device went',\n",
       " 'router took long time upgrade software',\n",
       " 'lose project',\n",
       " 'overall good access',\n",
       " 'maybe good',\n",
       " 'missing feature competition customer need',\n",
       " 'platform limited many way',\n",
       " 'new feature box taking long time released',\n",
       " 'recently traffic engineering feature included',\n",
       " 'need platform written',\n",
       " 'good fitting platformperformance',\n",
       " 'weak multicast implementationvery slow limited roadmap execution',\n",
       " 'many bug feature',\n",
       " 'good fit customer requirement',\n",
       " 'good platform two area',\n",
       " 'unstable',\n",
       " 'meet customer need',\n",
       " 'release delayed',\n",
       " 'serious competitor price',\n",
       " 'unique feature',\n",
       " 'missing support basic feature required customer',\n",
       " 'great setup',\n",
       " 'licensing still confusing customer',\n",
       " 'documentation still need workaround',\n",
       " 'missing feature',\n",
       " 'complicates overall upgrade process',\n",
       " 'excellent product',\n",
       " 'perfect little inexpensive love',\n",
       " 'no issue far',\n",
       " \"poor documentation kill customerste customer believe what's written\",\n",
       " 'shift understanding not clearly explained documented better documentation clearer messaging',\n",
       " 'best box sell right price size form factor need use case documentation',\n",
       " 'issue bundle',\n",
       " 'fixed form factor box good scale',\n",
       " 'unclear document',\n",
       " 'hardware slowness observed',\n",
       " 'difficult troubleshoot complexity',\n",
       " 'lack service menu',\n",
       " 'lack proper external documentation silent reload issue',\n",
       " 'hardware quality corrupt issue',\n",
       " 'function not good',\n",
       " 'box feel different configuring tends cause grief',\n",
       " 'missing component',\n",
       " 'missing part overall good product',\n",
       " 'customer start issue',\n",
       " 'need approachable solution',\n",
       " 'sw feature missing need better scalability',\n",
       " 'lack service menu',\n",
       " 'simple architcture',\n",
       " 'customer progress many issue',\n",
       " 'multicast profile support not avaiable',\n",
       " 'many bug introduce feature release',\n",
       " 'feature parity need aligned',\n",
       " 'uninteresting gui',\n",
       " 'ui interactive',\n",
       " 'totally instable enginieering quallity dropped lot',\n",
       " 'lack work around',\n",
       " 'platform wide deploy trigger lot escalation']"
      ]
     },
     "execution_count": 530,
     "metadata": {},
     "output_type": "execute_result"
    }
   ],
   "source": [
    "X_lemmatized"
   ]
  },
  {
   "cell_type": "code",
   "execution_count": null,
   "id": "d27f4508",
   "metadata": {},
   "outputs": [],
   "source": [
    "reviews_test_lemmatized =[(' '.join([lemmatizer.lemmatize(word, pos = 'a')for word in x.split()])) for x in reviews_test]\n",
    "reviews_test_lemmatized = [(' '.join([lemmatizer.lemmatize(word, pos = 'v')for word in x.split()])) for x in reviews_test]\n",
    "reviews_test_lemmatized = [(' '.join([lemmatizer.lemmatize(word, pos = 'n')for word in x.split()])) for x in reviews_test]"
   ]
  },
  {
   "cell_type": "markdown",
   "id": "cdf128ce",
   "metadata": {},
   "source": [
    "## Creating a Tf-Idf matrix  <a class ='anchor' id=\"fourth-bullet\"></a>"
   ]
  },
  {
   "cell_type": "code",
   "execution_count": null,
   "id": "22f355f7",
   "metadata": {},
   "outputs": [],
   "source": [
    "from sklearn.feature_extraction.text import TfidfVectorizer"
   ]
  },
  {
   "cell_type": "code",
   "execution_count": null,
   "id": "7e72ea04",
   "metadata": {},
   "outputs": [],
   "source": [
    "vectorizer = TfidfVectorizer(max_features= 300)"
   ]
  },
  {
   "cell_type": "code",
   "execution_count": null,
   "id": "459c5f29",
   "metadata": {
    "scrolled": true
   },
   "outputs": [],
   "source": [
    "X_tfidf = vectorizer.fit_transform(X_lemmatized)"
   ]
  },
  {
   "cell_type": "code",
   "execution_count": null,
   "id": "9d9a027f",
   "metadata": {},
   "outputs": [],
   "source": [
    "X_tfidf = X_tfidf.toarray()"
   ]
  },
  {
   "cell_type": "code",
   "execution_count": null,
   "id": "433ef76c",
   "metadata": {},
   "outputs": [],
   "source": [
    "X_test= vectorizer.transform(reviews_test_lemmatized)\n",
    "X_test = np.array(X_test.toarray())"
   ]
  },
  {
   "cell_type": "code",
   "execution_count": null,
   "id": "b3eff607",
   "metadata": {},
   "outputs": [],
   "source": [
    "new_tfidf = np.concatenate((X_tfidf,add_on), axis = 1)"
   ]
  },
  {
   "cell_type": "code",
   "execution_count": null,
   "id": "d40ade08",
   "metadata": {},
   "outputs": [],
   "source": [
    "word_features = vectorizer.get_feature_names_out()"
   ]
  },
  {
   "cell_type": "code",
   "execution_count": null,
   "id": "53699a72",
   "metadata": {},
   "outputs": [
    {
     "data": {
      "text/plain": [
       "array(['accounting', 'address', 'aggregation', 'also', 'always',\n",
       "       'amazing', 'another', 'basic', 'become', 'behavior', 'behind',\n",
       "       'best', 'better', 'box', 'bug', 'buggy', 'cab', 'cannot',\n",
       "       'capability', 'case', 'cases', 'cause', 'centralized', 'challenge',\n",
       "       'change', 'checking', 'clear', 'cli', 'close', 'combination',\n",
       "       'come', 'compared', 'comparing', 'competition', 'competitive',\n",
       "       'competitor', 'complicated', 'concerned', 'considered',\n",
       "       'consistent', 'constant', 'constantly', 'continue', 'cost',\n",
       "       'costly', 'critical', 'customer', 'deal', 'debugability', 'defect',\n",
       "       'defective', 'defined', 'delay', 'delayed', 'delivery', 'deploy',\n",
       "       'detail', 'determine', 'development', 'device', 'different',\n",
       "       'difficult', 'dimensional', 'dissatisfaction', 'doc', 'document',\n",
       "       'documentation', 'documented', 'downgrade', 'drop', 'dropped',\n",
       "       'due', 'effective', 'engineering', 'enginieering', 'established',\n",
       "       'even', 'everything', 'evolution', 'exactly', 'excellent',\n",
       "       'execution', 'executive', 'expectation', 'expected', 'experience',\n",
       "       'explained', 'external', 'extra', 'factor', 'falling', 'far',\n",
       "       'feature', 'feel', 'fine', 'first', 'fit', 'fixed', 'folk', 'form',\n",
       "       'gap', 'get', 'getting', 'good', 'great', 'greater', 'hard',\n",
       "       'hardware', 'heard', 'help', 'hidden', 'high', 'highly', 'hit',\n",
       "       'hw', 'implement', 'implementation', 'improve', 'improved',\n",
       "       'improvement', 'included', 'inconsistent', 'information',\n",
       "       'innovation', 'instable', 'install', 'insufficient', 'integration',\n",
       "       'inter', 'issue', 'keep', 'lack', 'lead', 'level', 'licensing',\n",
       "       'like', 'limitation', 'limited', 'little', 'logic', 'long', 'look',\n",
       "       'lot', 'low', 'maintenance', 'make', 'manual', 'many', 'maybe',\n",
       "       'meet', 'menu', 'missing', 'model', 'moderate', 'money', 'much',\n",
       "       'multi', 'multicast', 'multiple', 'need', 'needed', 'network',\n",
       "       'new', 'newer', 'nice', 'no', 'not', 'observed', 'one', 'oriented',\n",
       "       'outcome', 'overall', 'painful', 'parity', 'partner', 'perceived',\n",
       "       'perfect', 'platform', 'point', 'poor', 'port', 'position',\n",
       "       'positioned', 'positive', 'potential', 'potentially', 'power',\n",
       "       'pre', 'pretty', 'price', 'pricing', 'probably', 'problem',\n",
       "       'process', 'product', 'profile', 'progress', 'project', 'proper',\n",
       "       'properly', 'provide', 'put', 'quality', 'quallity', 'quite',\n",
       "       'rather', 'realetd', 'realiable', 'really', 'reboots', 'recently',\n",
       "       'release', 'released', 'reliability', 'reliable', 'reload',\n",
       "       'required', 'requirement', 'result', 'roadmap', 'role', 'router',\n",
       "       'rule', 'satisfied', 'scalability', 'scalable', 'scale', 'scaling',\n",
       "       'seems', 'seen', 'service', 'serviceability', 'set', 'silent',\n",
       "       'similar', 'slow', 'smart', 'smus', 'software', 'solution',\n",
       "       'sometimes', 'stable', 'standard', 'step', 'still', 'strong',\n",
       "       'supply', 'support', 'supportability', 'supported', 'sw', 'taking',\n",
       "       'team', 'test', 'tested', 'testing', 'think', 'throughput', 'time',\n",
       "       'timing', 'totally', 'troubleshoot', 'troubleshooting', 'unclear',\n",
       "       'understanding', 'uninteresting', 'unique', 'unknown', 'unstable',\n",
       "       'unsuitable', 'unsupported', 'upgrade', 'upgrading', 'use',\n",
       "       'usually', 'utility', 'validation', 'value', 'variant', 'varied',\n",
       "       'waiting', 'wasnt', 'watch', 'way', 'weak', 'weakness', 'week',\n",
       "       'well', 'whether', 'while', 'wide', 'widespread', 'winning',\n",
       "       'work', 'workaround', 'working', 'would', 'written', 'xyz', 'yet'],\n",
       "      dtype=object)"
      ]
     },
     "execution_count": 539,
     "metadata": {},
     "output_type": "execute_result"
    }
   ],
   "source": [
    "word_features #These are the words being measured for the Tf-Idf matrix"
   ]
  },
  {
   "cell_type": "markdown",
   "id": "c905264a",
   "metadata": {},
   "source": [
    "## Vader score analysis <a class ='anchor' id=\"twelfth-bullet\"></a>"
   ]
  },
  {
   "cell_type": "markdown",
   "id": "761c131d",
   "metadata": {},
   "source": [
    "Vader Score is a sentiment classifier provided in the nltk library. It is a reliable algorithm for sentiment analysis in many situations so it is good to start with using it as a sentiment classifier in this situation"
   ]
  },
  {
   "cell_type": "code",
   "execution_count": null,
   "id": "dbe95978",
   "metadata": {},
   "outputs": [],
   "source": [
    "from sklearn.metrics import accuracy_score, confusion_matrix"
   ]
  },
  {
   "cell_type": "code",
   "execution_count": null,
   "id": "157d3b8a",
   "metadata": {},
   "outputs": [],
   "source": [
    "from nltk.sentiment.vader import SentimentIntensityAnalyzer"
   ]
  },
  {
   "cell_type": "code",
   "execution_count": null,
   "id": "d93d54c8",
   "metadata": {},
   "outputs": [],
   "source": [
    "def get_vader_score(sent):\n",
    "    '''Function calculates the vader score for a sentence. Input is a string (sentence) and output is a score (integer)'''\n",
    "    tokenized = sent\n",
    "    analyzer = SentimentIntensityAnalyzer()\n",
    "    return analyzer.polarity_scores(tokenized)['compound']"
   ]
  },
  {
   "cell_type": "code",
   "execution_count": null,
   "id": "d2223e4d",
   "metadata": {},
   "outputs": [],
   "source": [
    "def sentiment_predictor(sentences):\n",
    "    '''Uses vader score to predict the sentiment of reviews. Input is a list of reviews and output is a list of sentiments'''\n",
    "    pred = []\n",
    "    for sent in sentences:\n",
    "        if get_vader_score(sent) > 0:\n",
    "            pred.append(1)\n",
    "        else:\n",
    "            pred.append(0)\n",
    "    return pred\n",
    "   "
   ]
  },
  {
   "cell_type": "code",
   "execution_count": null,
   "id": "992b0ca5",
   "metadata": {},
   "outputs": [
    {
     "data": {
      "text/plain": [
       "0.7338501291989664"
      ]
     },
     "execution_count": 544,
     "metadata": {},
     "output_type": "execute_result"
    }
   ],
   "source": [
    "accuracy_score(sentiment_predictor(reviews), sentiments)"
   ]
  },
  {
   "cell_type": "code",
   "execution_count": null,
   "id": "fe76edd8",
   "metadata": {},
   "outputs": [
    {
     "data": {
      "text/plain": [
       "0.7692307692307693"
      ]
     },
     "execution_count": 545,
     "metadata": {},
     "output_type": "execute_result"
    }
   ],
   "source": [
    "accuracy_score(sentiment_predictor(reviews_test), sentiments_test)"
   ]
  },
  {
   "cell_type": "markdown",
   "id": "7c8b5000",
   "metadata": {},
   "source": [
    "Vader score does better on test than training data, this could mean that the training dataset contains many domain-specific reviews that VADER is unable to judge correctly."
   ]
  },
  {
   "cell_type": "markdown",
   "id": "81c020bd",
   "metadata": {},
   "source": [
    "## Multi-layer Perceptron  <a class ='anchor' id=\"fifth-bullet\"></a>"
   ]
  },
  {
   "cell_type": "markdown",
   "id": "175648c9",
   "metadata": {},
   "source": [
    "We are defining a model with three hidden layers of sizes 200, 150 and 50 respectively. We have used Dropout layers in between to reduce overfitting. The keras Sequential API has been used to create the model.\\\n",
    "We optimize this model to reduce the Binary Cross entropy loss using Adam optimizer. We have trained the model for 50 epochs and also kee track of validation accuracy during training. Due to the small dataset, the model is unstable and thus me add a Callback to stop training when train accuracy is > 95% and validation accuracy > 72%"
   ]
  },
  {
   "cell_type": "code",
   "execution_count": null,
   "id": "d0f58314",
   "metadata": {},
   "outputs": [],
   "source": [
    "simple_model = tf.keras.Sequential([tf.keras.layers.InputLayer((300,)),tf.keras.layers.Dense(200,activation ='relu'),tf.keras.layers.Dropout(rate = 0.4), tf.keras.layers.Dense(100,activation ='relu'),tf.keras.layers.Dropout(rate = 0.3),tf.keras.layers.Dense(units = 50, activation = 'relu'),tf.keras.layers.Dropout(rate = 0.2),tf.keras.layers.Dense(units = 30, activation = 'relu'),tf.keras.layers.Dense(units = 1, activation = 'sigmoid')])"
   ]
  },
  {
   "cell_type": "code",
   "execution_count": null,
   "id": "775fbb4a",
   "metadata": {},
   "outputs": [],
   "source": [
    "new_test = np.concatenate((X_test, add_on_test), axis =1)"
   ]
  },
  {
   "cell_type": "code",
   "execution_count": null,
   "id": "99df5ede",
   "metadata": {},
   "outputs": [],
   "source": [
    "simple_model.compile(loss = 'BinaryCrossentropy',metrics = ['accuracy'],optimizer = 'Adam')\n",
    "from keras.callbacks import ModelCheckpoint"
   ]
  },
  {
   "cell_type": "code",
   "execution_count": null,
   "id": "d29b340c",
   "metadata": {},
   "outputs": [],
   "source": [
    "class myCallback(tf.keras.callbacks.Callback): \n",
    "    def on_epoch_end(self, epoch, logs={}): \n",
    "        if(logs.get('accuracy') > 0.95 and logs.get('val_accuracy')>=0.72):\n",
    "            print(\"\\nReached %2.2f%% accuracy, so stopping training!!\" %(0.95*100))   \n",
    "            self.model.stop_training = True"
   ]
  },
  {
   "cell_type": "code",
   "execution_count": null,
   "id": "c1bae02e",
   "metadata": {
    "scrolled": true
   },
   "outputs": [
    {
     "name": "stdout",
     "output_type": "stream",
     "text": [
      "Epoch 1/50\n",
      "13/13 [==============================] - 4s 31ms/step - loss: 0.6927 - accuracy: 0.4987 - val_loss: 0.6778 - val_accuracy: 0.7154\n",
      "Epoch 2/50\n",
      "13/13 [==============================] - 0s 7ms/step - loss: 0.6850 - accuracy: 0.5814 - val_loss: 0.6526 - val_accuracy: 0.7000\n",
      "Epoch 3/50\n",
      "13/13 [==============================] - 0s 9ms/step - loss: 0.6613 - accuracy: 0.5633 - val_loss: 0.6166 - val_accuracy: 0.7308\n",
      "Epoch 4/50\n",
      "13/13 [==============================] - 0s 6ms/step - loss: 0.6226 - accuracy: 0.6512 - val_loss: 0.5634 - val_accuracy: 0.7692\n",
      "Epoch 5/50\n",
      "13/13 [==============================] - 0s 9ms/step - loss: 0.5173 - accuracy: 0.8114 - val_loss: 0.4854 - val_accuracy: 0.8000\n",
      "Epoch 6/50\n",
      "13/13 [==============================] - 0s 9ms/step - loss: 0.3900 - accuracy: 0.8734 - val_loss: 0.4569 - val_accuracy: 0.7385\n",
      "Epoch 7/50\n",
      "13/13 [==============================] - 0s 9ms/step - loss: 0.3066 - accuracy: 0.8811 - val_loss: 0.5383 - val_accuracy: 0.7154\n",
      "Epoch 8/50\n",
      "13/13 [==============================] - 0s 9ms/step - loss: 0.2248 - accuracy: 0.9199 - val_loss: 0.5261 - val_accuracy: 0.7692\n",
      "Epoch 9/50\n",
      "13/13 [==============================] - 0s 12ms/step - loss: 0.1944 - accuracy: 0.9276 - val_loss: 0.5781 - val_accuracy: 0.7462\n",
      "Epoch 10/50\n",
      "13/13 [==============================] - 0s 7ms/step - loss: 0.1680 - accuracy: 0.9328 - val_loss: 0.6199 - val_accuracy: 0.7308\n",
      "Epoch 11/50\n",
      " 1/13 [=>............................] - ETA: 0s - loss: 0.0972 - accuracy: 0.9688\n",
      "Reached 95.00% accuracy, so stopping training!!\n",
      "13/13 [==============================] - 0s 9ms/step - loss: 0.1294 - accuracy: 0.9509 - val_loss: 0.6885 - val_accuracy: 0.7308\n"
     ]
    }
   ],
   "source": [
    "hist = simple_model.fit(X_tfidf, sentiments, epochs = 50, validation_data= [X_test, sentiments_test], callbacks = [myCallback()])"
   ]
  },
  {
   "cell_type": "code",
   "execution_count": null,
   "id": "4350b385",
   "metadata": {},
   "outputs": [],
   "source": [
    "from sklearn.metrics import confusion_matrix, accuracy_score"
   ]
  },
  {
   "cell_type": "code",
   "execution_count": null,
   "id": "207011e4",
   "metadata": {
    "scrolled": true
   },
   "outputs": [
    {
     "name": "stdout",
     "output_type": "stream",
     "text": [
      "13/13 [==============================] - 0s 3ms/step\n"
     ]
    }
   ],
   "source": [
    "train_pred= np.round(simple_model.predict(X_tfidf))\n"
   ]
  },
  {
   "cell_type": "code",
   "execution_count": null,
   "id": "f6577273",
   "metadata": {},
   "outputs": [
    {
     "data": {
      "text/plain": [
       "array([[199,   2],\n",
       "       [ 14, 172]], dtype=int64)"
      ]
     },
     "execution_count": 553,
     "metadata": {},
     "output_type": "execute_result"
    }
   ],
   "source": [
    "confusion_matrix(train_pred, sentiments)"
   ]
  },
  {
   "cell_type": "code",
   "execution_count": null,
   "id": "0528e020",
   "metadata": {},
   "outputs": [
    {
     "name": "stdout",
     "output_type": "stream",
     "text": [
      "5/5 [==============================] - 0s 3ms/step\n"
     ]
    }
   ],
   "source": [
    "pred = np.round(simple_model.predict(X_test))\n"
   ]
  },
  {
   "cell_type": "code",
   "execution_count": null,
   "id": "8442e6f9",
   "metadata": {},
   "outputs": [],
   "source": [
    "from sklearn.metrics import accuracy_score, confusion_matrix"
   ]
  },
  {
   "cell_type": "code",
   "execution_count": null,
   "id": "3c388127",
   "metadata": {
    "scrolled": true
   },
   "outputs": [
    {
     "data": {
      "text/plain": [
       "0.7307692307692307"
      ]
     },
     "execution_count": 556,
     "metadata": {},
     "output_type": "execute_result"
    }
   ],
   "source": [
    "accuracy_score(pred,sentiments_test)"
   ]
  },
  {
   "cell_type": "code",
   "execution_count": null,
   "id": "04c5d395",
   "metadata": {
    "scrolled": true
   },
   "outputs": [
    {
     "data": {
      "text/plain": [
       "array([[62,  7],\n",
       "       [28, 33]], dtype=int64)"
      ]
     },
     "execution_count": 557,
     "metadata": {},
     "output_type": "execute_result"
    }
   ],
   "source": [
    "confusion_matrix((pred),sentiments_test)"
   ]
  },
  {
   "cell_type": "markdown",
   "id": "5be955b3",
   "metadata": {},
   "source": [
    "We also try a deeper neural network of 4 hidden layer of sizes 200,150,100,50 respectively. But the performance does not improve."
   ]
  },
  {
   "cell_type": "code",
   "execution_count": null,
   "id": "07c1850c",
   "metadata": {},
   "outputs": [],
   "source": [
    "model2 = tf.keras.Sequential([tf.keras.layers.InputLayer((300,)),tf.keras.layers.Dense(200,activation ='relu'),tf.keras.layers.Dropout(rate = 0.7), tf.keras.layers.Dense(150,activation ='relu'),tf.keras.layers.Dropout(rate = 0.5),tf.keras.layers.Dense(units = 100, activation = 'relu'),tf.keras.layers.Dropout(rate = 0.4),tf.keras.layers.Dense(50,activation ='relu'),tf.keras.layers.Dropout(rate = 0.2), tf.keras.layers.Dense(30,activation ='relu'),tf.keras.layers.Dropout(rate = 0.1),tf.keras.layers.Dense(units = 1, activation = 'sigmoid')])"
   ]
  },
  {
   "cell_type": "code",
   "execution_count": null,
   "id": "286faf2a",
   "metadata": {},
   "outputs": [],
   "source": [
    "model2.compile(loss = 'BinaryCrossentropy',metrics= ['accuracy'], optimizer = 'Adam')"
   ]
  },
  {
   "cell_type": "code",
   "execution_count": null,
   "id": "c276ed92",
   "metadata": {},
   "outputs": [
    {
     "name": "stdout",
     "output_type": "stream",
     "text": [
      "Epoch 1/50\n",
      "13/13 [==============================] - 3s 40ms/step - loss: 0.6951 - accuracy: 0.4651 - val_loss: 0.6833 - val_accuracy: 0.6923\n",
      "Epoch 2/50\n",
      "13/13 [==============================] - 0s 10ms/step - loss: 0.6884 - accuracy: 0.5814 - val_loss: 0.6754 - val_accuracy: 0.6923\n",
      "Epoch 3/50\n",
      "13/13 [==============================] - 0s 8ms/step - loss: 0.6893 - accuracy: 0.5349 - val_loss: 0.6748 - val_accuracy: 0.6923\n",
      "Epoch 4/50\n",
      "13/13 [==============================] - 0s 9ms/step - loss: 0.6881 - accuracy: 0.5426 - val_loss: 0.6706 - val_accuracy: 0.6923\n",
      "Epoch 5/50\n",
      "13/13 [==============================] - 0s 11ms/step - loss: 0.6816 - accuracy: 0.5685 - val_loss: 0.6620 - val_accuracy: 0.6923\n",
      "Epoch 6/50\n",
      "13/13 [==============================] - 0s 9ms/step - loss: 0.6791 - accuracy: 0.5556 - val_loss: 0.6477 - val_accuracy: 0.6923\n",
      "Epoch 7/50\n",
      "13/13 [==============================] - 0s 8ms/step - loss: 0.6728 - accuracy: 0.5659 - val_loss: 0.6337 - val_accuracy: 0.7077\n",
      "Epoch 8/50\n",
      "13/13 [==============================] - 0s 11ms/step - loss: 0.6535 - accuracy: 0.6098 - val_loss: 0.6143 - val_accuracy: 0.7308\n",
      "Epoch 9/50\n",
      "13/13 [==============================] - 0s 11ms/step - loss: 0.6269 - accuracy: 0.6770 - val_loss: 0.5621 - val_accuracy: 0.7462\n",
      "Epoch 10/50\n",
      "13/13 [==============================] - 0s 12ms/step - loss: 0.5693 - accuracy: 0.7468 - val_loss: 0.5375 - val_accuracy: 0.7538\n",
      "Epoch 11/50\n",
      "13/13 [==============================] - 0s 8ms/step - loss: 0.5241 - accuracy: 0.7571 - val_loss: 0.5017 - val_accuracy: 0.7462\n",
      "Epoch 12/50\n",
      "13/13 [==============================] - 0s 9ms/step - loss: 0.4327 - accuracy: 0.8217 - val_loss: 0.4971 - val_accuracy: 0.7462\n",
      "Epoch 13/50\n",
      "13/13 [==============================] - 0s 10ms/step - loss: 0.3813 - accuracy: 0.8295 - val_loss: 0.5176 - val_accuracy: 0.7462\n",
      "Epoch 14/50\n",
      "13/13 [==============================] - 0s 12ms/step - loss: 0.3166 - accuracy: 0.8708 - val_loss: 0.5234 - val_accuracy: 0.7692\n",
      "Epoch 15/50\n",
      "13/13 [==============================] - 0s 12ms/step - loss: 0.3060 - accuracy: 0.8915 - val_loss: 0.6100 - val_accuracy: 0.7385\n",
      "Epoch 16/50\n",
      "13/13 [==============================] - 0s 8ms/step - loss: 0.2725 - accuracy: 0.9121 - val_loss: 0.6307 - val_accuracy: 0.7154\n",
      "Epoch 17/50\n",
      "13/13 [==============================] - 0s 12ms/step - loss: 0.2806 - accuracy: 0.9070 - val_loss: 0.5722 - val_accuracy: 0.7462\n",
      "Epoch 18/50\n",
      "13/13 [==============================] - 0s 12ms/step - loss: 0.2529 - accuracy: 0.9044 - val_loss: 0.6088 - val_accuracy: 0.7308\n",
      "Epoch 19/50\n",
      "13/13 [==============================] - 0s 11ms/step - loss: 0.2200 - accuracy: 0.9354 - val_loss: 0.5780 - val_accuracy: 0.7615\n",
      "Epoch 20/50\n",
      "13/13 [==============================] - 0s 13ms/step - loss: 0.2212 - accuracy: 0.9199 - val_loss: 0.6222 - val_accuracy: 0.7308\n",
      "Epoch 21/50\n",
      "13/13 [==============================] - 0s 9ms/step - loss: 0.2125 - accuracy: 0.9302 - val_loss: 0.6688 - val_accuracy: 0.7077\n",
      "Epoch 22/50\n",
      "13/13 [==============================] - 0s 9ms/step - loss: 0.1769 - accuracy: 0.9302 - val_loss: 0.6291 - val_accuracy: 0.7538\n",
      "Epoch 23/50\n",
      "13/13 [==============================] - 0s 7ms/step - loss: 0.1880 - accuracy: 0.9276 - val_loss: 0.6411 - val_accuracy: 0.7538\n",
      "Epoch 24/50\n",
      "13/13 [==============================] - 0s 11ms/step - loss: 0.1918 - accuracy: 0.9251 - val_loss: 0.7106 - val_accuracy: 0.7154\n",
      "Epoch 25/50\n",
      "13/13 [==============================] - 0s 10ms/step - loss: 0.2001 - accuracy: 0.9354 - val_loss: 0.6870 - val_accuracy: 0.7154\n",
      "Epoch 26/50\n",
      "13/13 [==============================] - 0s 11ms/step - loss: 0.1533 - accuracy: 0.9457 - val_loss: 0.7309 - val_accuracy: 0.7154\n",
      "Epoch 27/50\n",
      "13/13 [==============================] - 0s 13ms/step - loss: 0.1842 - accuracy: 0.9432 - val_loss: 0.7008 - val_accuracy: 0.7385\n",
      "Epoch 28/50\n",
      "13/13 [==============================] - 0s 12ms/step - loss: 0.1869 - accuracy: 0.9406 - val_loss: 0.6681 - val_accuracy: 0.7538\n",
      "Epoch 29/50\n",
      "13/13 [==============================] - 0s 11ms/step - loss: 0.1331 - accuracy: 0.9587 - val_loss: 0.7209 - val_accuracy: 0.7154\n",
      "Epoch 30/50\n",
      "13/13 [==============================] - 0s 10ms/step - loss: 0.1513 - accuracy: 0.9457 - val_loss: 0.7194 - val_accuracy: 0.7231\n",
      "Epoch 31/50\n",
      "13/13 [==============================] - 0s 9ms/step - loss: 0.1466 - accuracy: 0.9483 - val_loss: 0.6914 - val_accuracy: 0.7462\n",
      "Epoch 32/50\n",
      "13/13 [==============================] - 0s 14ms/step - loss: 0.1568 - accuracy: 0.9483 - val_loss: 0.7802 - val_accuracy: 0.7231\n",
      "Epoch 33/50\n",
      "13/13 [==============================] - 0s 12ms/step - loss: 0.1595 - accuracy: 0.9457 - val_loss: 0.7071 - val_accuracy: 0.7385\n",
      "Epoch 34/50\n",
      "13/13 [==============================] - 0s 8ms/step - loss: 0.1336 - accuracy: 0.9535 - val_loss: 0.7672 - val_accuracy: 0.7308\n",
      "Epoch 35/50\n",
      "13/13 [==============================] - 0s 10ms/step - loss: 0.1236 - accuracy: 0.9535 - val_loss: 0.7535 - val_accuracy: 0.7615\n",
      "Epoch 36/50\n",
      "13/13 [==============================] - 0s 12ms/step - loss: 0.1432 - accuracy: 0.9483 - val_loss: 0.6911 - val_accuracy: 0.7538\n",
      "Epoch 37/50\n",
      "13/13 [==============================] - 0s 12ms/step - loss: 0.1159 - accuracy: 0.9587 - val_loss: 0.7643 - val_accuracy: 0.7231\n",
      "Epoch 38/50\n",
      "13/13 [==============================] - 0s 11ms/step - loss: 0.0890 - accuracy: 0.9716 - val_loss: 0.8753 - val_accuracy: 0.7077\n",
      "Epoch 39/50\n",
      "13/13 [==============================] - 0s 11ms/step - loss: 0.1262 - accuracy: 0.9535 - val_loss: 0.8571 - val_accuracy: 0.7308\n",
      "Epoch 40/50\n",
      "13/13 [==============================] - 0s 11ms/step - loss: 0.1177 - accuracy: 0.9561 - val_loss: 0.8959 - val_accuracy: 0.7077\n",
      "Epoch 41/50\n",
      "13/13 [==============================] - 0s 12ms/step - loss: 0.1483 - accuracy: 0.9483 - val_loss: 0.8542 - val_accuracy: 0.7231\n",
      "Epoch 42/50\n",
      "13/13 [==============================] - 0s 12ms/step - loss: 0.1216 - accuracy: 0.9509 - val_loss: 0.8452 - val_accuracy: 0.7154\n",
      "Epoch 43/50\n",
      "13/13 [==============================] - 0s 12ms/step - loss: 0.1236 - accuracy: 0.9535 - val_loss: 0.8329 - val_accuracy: 0.7308\n",
      "Epoch 44/50\n",
      "13/13 [==============================] - 0s 12ms/step - loss: 0.1355 - accuracy: 0.9587 - val_loss: 0.8603 - val_accuracy: 0.7231\n",
      "Epoch 45/50\n",
      "13/13 [==============================] - 0s 7ms/step - loss: 0.1088 - accuracy: 0.9561 - val_loss: 0.8596 - val_accuracy: 0.7231\n",
      "Epoch 46/50\n",
      "13/13 [==============================] - 0s 13ms/step - loss: 0.0903 - accuracy: 0.9664 - val_loss: 0.9304 - val_accuracy: 0.7231\n",
      "Epoch 47/50\n",
      "13/13 [==============================] - 0s 12ms/step - loss: 0.1105 - accuracy: 0.9587 - val_loss: 0.9276 - val_accuracy: 0.7154\n",
      "Epoch 48/50\n",
      "13/13 [==============================] - 0s 12ms/step - loss: 0.1197 - accuracy: 0.9509 - val_loss: 0.8863 - val_accuracy: 0.7231\n",
      "Epoch 49/50\n",
      "13/13 [==============================] - 0s 7ms/step - loss: 0.1199 - accuracy: 0.9587 - val_loss: 0.8955 - val_accuracy: 0.7154\n",
      "Epoch 50/50\n",
      "13/13 [==============================] - 0s 11ms/step - loss: 0.0980 - accuracy: 0.9561 - val_loss: 1.0048 - val_accuracy: 0.6769\n"
     ]
    }
   ],
   "source": [
    "hist2 = model2.fit(X_tfidf, sentiments, validation_data = [X_test, sentiments_test], epochs = 50)"
   ]
  },
  {
   "cell_type": "markdown",
   "id": "1d6afaee",
   "metadata": {},
   "source": [
    "The Multilayer Perceptron model is not useful in this dataset as the dataset is very small. The model also attains desirably high training accuracy in the initial 50 epochs and subsequent training stabilizes this accuracy but at the same time it reduces the test accuracy. Thus we have not trained the model for more than 50 epochs.\n",
    "\n",
    "Due to the paucity of data, we are not applying advanced NLP models like RNNs and attention models"
   ]
  },
  {
   "cell_type": "markdown",
   "id": "14c34177",
   "metadata": {},
   "source": [
    "## Logistic Regression  <a class ='anchor' id=\"sixth-bullet\"></a>"
   ]
  },
  {
   "cell_type": "code",
   "execution_count": null,
   "id": "15a7f8b8",
   "metadata": {},
   "outputs": [],
   "source": [
    "from sklearn.linear_model import LogisticRegression\n",
    "from sklearn.metrics import accuracy_score, confusion_matrix\n"
   ]
  },
  {
   "cell_type": "code",
   "execution_count": null,
   "id": "68e13002",
   "metadata": {},
   "outputs": [],
   "source": [
    "regressor = LogisticRegression()"
   ]
  },
  {
   "cell_type": "code",
   "execution_count": null,
   "id": "bccf284a",
   "metadata": {},
   "outputs": [],
   "source": [
    "model3 = regressor.fit(X_tfidf, sentiments)"
   ]
  },
  {
   "cell_type": "code",
   "execution_count": null,
   "id": "72d1f34a",
   "metadata": {},
   "outputs": [],
   "source": [
    "pred = model3.predict(X_tfidf)"
   ]
  },
  {
   "cell_type": "code",
   "execution_count": null,
   "id": "ff24907a",
   "metadata": {},
   "outputs": [
    {
     "data": {
      "text/plain": [
       "0.9018087855297158"
      ]
     },
     "execution_count": 565,
     "metadata": {},
     "output_type": "execute_result"
    }
   ],
   "source": [
    "accuracy_score(pred, sentiments)"
   ]
  },
  {
   "cell_type": "code",
   "execution_count": null,
   "id": "57d55dea",
   "metadata": {},
   "outputs": [
    {
     "data": {
      "text/plain": [
       "0.7538461538461538"
      ]
     },
     "execution_count": 566,
     "metadata": {},
     "output_type": "execute_result"
    }
   ],
   "source": [
    "pred_test = model3.predict(X_test)\n",
    "accuracy_score(pred_test, sentiments_test)"
   ]
  },
  {
   "cell_type": "markdown",
   "id": "195bd0c5",
   "metadata": {},
   "source": [
    "Logistic Regression predictably is not a great choice for this dataset because it works best on linearly separable datasets. However the test accuracy is still quite good, better than MLP. Again and again the algorithms indicate that testing data is actually more easily classifiable than training in our case"
   ]
  },
  {
   "cell_type": "markdown",
   "id": "cdb900d4",
   "metadata": {},
   "source": [
    "## SVM classifier<a class ='anchor' id=\"seventh-bullet\"></a>"
   ]
  },
  {
   "cell_type": "code",
   "execution_count": null,
   "id": "97bee341",
   "metadata": {},
   "outputs": [],
   "source": [
    "from sklearn.svm import SVC"
   ]
  },
  {
   "cell_type": "code",
   "execution_count": null,
   "id": "8887e63e",
   "metadata": {},
   "outputs": [],
   "source": [
    "classifier = SVC(kernel = 'rbf')"
   ]
  },
  {
   "cell_type": "code",
   "execution_count": null,
   "id": "e826f6bb",
   "metadata": {},
   "outputs": [
    {
     "data": {
      "text/plain": [
       "(387, 300)"
      ]
     },
     "execution_count": 569,
     "metadata": {},
     "output_type": "execute_result"
    }
   ],
   "source": [
    "X_tfidf.shape"
   ]
  },
  {
   "cell_type": "code",
   "execution_count": null,
   "id": "b21839a6",
   "metadata": {},
   "outputs": [],
   "source": [
    "model4 = classifier.fit(X_tfidf, sentiments)"
   ]
  },
  {
   "cell_type": "code",
   "execution_count": null,
   "id": "2598ceba",
   "metadata": {},
   "outputs": [],
   "source": [
    "pred4 = model4.predict(X_tfidf)"
   ]
  },
  {
   "cell_type": "code",
   "execution_count": null,
   "id": "58f6fd3d",
   "metadata": {},
   "outputs": [
    {
     "data": {
      "text/plain": [
       "0.9560723514211886"
      ]
     },
     "execution_count": 572,
     "metadata": {},
     "output_type": "execute_result"
    }
   ],
   "source": [
    "accuracy_score(pred4, sentiments)"
   ]
  },
  {
   "cell_type": "code",
   "execution_count": null,
   "id": "653bb74f",
   "metadata": {},
   "outputs": [],
   "source": [
    "pred_test4 = model4.predict(X_test)"
   ]
  },
  {
   "cell_type": "code",
   "execution_count": null,
   "id": "08e19bbf",
   "metadata": {},
   "outputs": [
    {
     "data": {
      "text/plain": [
       "0.7692307692307693"
      ]
     },
     "execution_count": 574,
     "metadata": {},
     "output_type": "execute_result"
    }
   ],
   "source": [
    "accuracy_score(pred_test4, sentiments_test)"
   ]
  },
  {
   "cell_type": "code",
   "execution_count": null,
   "id": "e80705a4",
   "metadata": {},
   "outputs": [
    {
     "data": {
      "text/plain": [
       "array([[71, 11],\n",
       "       [19, 29]], dtype=int64)"
      ]
     },
     "execution_count": 575,
     "metadata": {},
     "output_type": "execute_result"
    }
   ],
   "source": [
    "confusion_matrix(pred_test4, sentiments_test)"
   ]
  },
  {
   "cell_type": "markdown",
   "id": "01286d6c",
   "metadata": {},
   "source": [
    "SVM with RBF kernel works very well. We also tried polynomial kernels with degrees higher than 10 but they did not seem to work better than this.\n",
    "\n",
    "The only drawback of SVM classification is that it is not easy to interpret. For instance, we cannot get the probability of an example being positive or negative, we only get a binary score"
   ]
  },
  {
   "cell_type": "markdown",
   "id": "7cce5788",
   "metadata": {},
   "source": [
    "## Decision Tree classifier  <a class ='anchor' id=\"eighth-bullet\"></a>"
   ]
  },
  {
   "cell_type": "code",
   "execution_count": null,
   "id": "5a53653a",
   "metadata": {},
   "outputs": [],
   "source": [
    "\n",
    "from sklearn.model_selection import cross_val_score\n",
    "from sklearn.tree import DecisionTreeClassifier\n",
    "clf = DecisionTreeClassifier(random_state=0, max_depth = 50)\n",
    "model5 = clf.fit(X_tfidf, sentiments)"
   ]
  },
  {
   "cell_type": "code",
   "execution_count": null,
   "id": "fb6acfc6",
   "metadata": {},
   "outputs": [],
   "source": [
    "pred5 = model5.predict(X_tfidf)"
   ]
  },
  {
   "cell_type": "code",
   "execution_count": null,
   "id": "43813d8f",
   "metadata": {},
   "outputs": [
    {
     "data": {
      "text/plain": [
       "0.9638242894056848"
      ]
     },
     "execution_count": 578,
     "metadata": {},
     "output_type": "execute_result"
    }
   ],
   "source": [
    "accuracy_score(pred5, sentiments)"
   ]
  },
  {
   "cell_type": "code",
   "execution_count": null,
   "id": "c2ce400a",
   "metadata": {},
   "outputs": [
    {
     "data": {
      "text/plain": [
       "0.7307692307692307"
      ]
     },
     "execution_count": 579,
     "metadata": {},
     "output_type": "execute_result"
    }
   ],
   "source": [
    "accuracy_score(model5.predict(X_test),sentiments_test)"
   ]
  },
  {
   "cell_type": "markdown",
   "id": "74050c44",
   "metadata": {},
   "source": [
    "One simple decision tree is unable to achieve a good testing accuracy"
   ]
  },
  {
   "cell_type": "markdown",
   "id": "be54f7e4",
   "metadata": {},
   "source": [
    "## Random Forest classifier <a class ='anchor' id=\"ninth-bullet\"></a>"
   ]
  },
  {
   "cell_type": "code",
   "execution_count": null,
   "id": "ffc36dd0",
   "metadata": {},
   "outputs": [],
   "source": [
    "from sklearn.ensemble import RandomForestClassifier"
   ]
  },
  {
   "cell_type": "code",
   "execution_count": null,
   "id": "675c19b4",
   "metadata": {},
   "outputs": [],
   "source": [
    "clf = RandomForestClassifier(n_estimators = 100,max_depth= 45, random_state=0)"
   ]
  },
  {
   "cell_type": "code",
   "execution_count": null,
   "id": "3ee8ee75",
   "metadata": {},
   "outputs": [
    {
     "data": {
      "text/plain": [
       "array([[0., 0., 0., ..., 0., 0., 0.],\n",
       "       [0., 0., 0., ..., 0., 0., 0.],\n",
       "       [0., 0., 0., ..., 0., 0., 0.],\n",
       "       ...,\n",
       "       [0., 0., 0., ..., 0., 0., 0.],\n",
       "       [0., 0., 0., ..., 0., 0., 0.],\n",
       "       [0., 0., 0., ..., 0., 0., 0.]])"
      ]
     },
     "execution_count": 582,
     "metadata": {},
     "output_type": "execute_result"
    }
   ],
   "source": [
    "new_tfidf"
   ]
  },
  {
   "cell_type": "code",
   "execution_count": null,
   "id": "f0d8ae6b",
   "metadata": {
    "scrolled": true
   },
   "outputs": [],
   "source": [
    "model6 = clf.fit(X_tfidf, sentiments)"
   ]
  },
  {
   "cell_type": "code",
   "execution_count": null,
   "id": "a633e14d",
   "metadata": {},
   "outputs": [
    {
     "data": {
      "text/plain": [
       "0.9534883720930233"
      ]
     },
     "execution_count": 584,
     "metadata": {},
     "output_type": "execute_result"
    }
   ],
   "source": [
    "accuracy_score(model6.predict(X_tfidf), sentiments)"
   ]
  },
  {
   "cell_type": "code",
   "execution_count": null,
   "id": "63ea4751",
   "metadata": {},
   "outputs": [
    {
     "data": {
      "text/plain": [
       "(130, 355)"
      ]
     },
     "execution_count": 585,
     "metadata": {},
     "output_type": "execute_result"
    }
   ],
   "source": [
    "new_test.shape"
   ]
  },
  {
   "cell_type": "code",
   "execution_count": null,
   "id": "f0b968a9",
   "metadata": {},
   "outputs": [
    {
     "data": {
      "text/plain": [
       "0.7769230769230769"
      ]
     },
     "execution_count": 586,
     "metadata": {},
     "output_type": "execute_result"
    }
   ],
   "source": [
    "accuracy_score(model6.predict(X_test), sentiments_test)"
   ]
  },
  {
   "cell_type": "code",
   "execution_count": null,
   "id": "848d5265",
   "metadata": {},
   "outputs": [
    {
     "data": {
      "text/plain": [
       "array([[209,  14],\n",
       "       [  4, 160]], dtype=int64)"
      ]
     },
     "execution_count": 587,
     "metadata": {},
     "output_type": "execute_result"
    }
   ],
   "source": [
    "confusion_matrix(model6.predict(X_tfidf), sentiments)"
   ]
  },
  {
   "cell_type": "code",
   "execution_count": null,
   "id": "d901d7d0",
   "metadata": {},
   "outputs": [
    {
     "data": {
      "text/plain": [
       "array([[75, 14],\n",
       "       [15, 26]], dtype=int64)"
      ]
     },
     "execution_count": 588,
     "metadata": {},
     "output_type": "execute_result"
    }
   ],
   "source": [
    "confusion_matrix(model6.predict(X_test), sentiments_test)"
   ]
  },
  {
   "cell_type": "code",
   "execution_count": null,
   "id": "8361ce3d",
   "metadata": {},
   "outputs": [],
   "source": [
    "from sklearn.metrics import f1_score"
   ]
  },
  {
   "cell_type": "code",
   "execution_count": null,
   "id": "2c7c2d89",
   "metadata": {},
   "outputs": [
    {
     "name": "stdout",
     "output_type": "stream",
     "text": [
      "f1_score on training data is:0.9467455621301775\n"
     ]
    }
   ],
   "source": [
    "print('f1_score on training data is:'+str(f1_score(model6.predict(X_tfidf), sentiments)))"
   ]
  },
  {
   "cell_type": "code",
   "execution_count": null,
   "id": "7fced2c4",
   "metadata": {},
   "outputs": [
    {
     "name": "stdout",
     "output_type": "stream",
     "text": [
      "f1_score on testing data is:0.6419753086419754\n"
     ]
    }
   ],
   "source": [
    "print('f1_score on testing data is:'+str(f1_score(model6.predict(X_test), sentiments_test)))"
   ]
  },
  {
   "cell_type": "code",
   "execution_count": null,
   "id": "47f4987c",
   "metadata": {},
   "outputs": [
    {
     "data": {
      "text/plain": [
       "array([[0.67620749, 0.32379251],\n",
       "       [0.71706948, 0.28293052],\n",
       "       [0.3611791 , 0.6388209 ],\n",
       "       [0.9734003 , 0.0265997 ],\n",
       "       [0.33945374, 0.66054626],\n",
       "       [0.58564178, 0.41435822],\n",
       "       [0.71706948, 0.28293052],\n",
       "       [0.71706948, 0.28293052],\n",
       "       [0.06371903, 0.93628097],\n",
       "       [0.10780255, 0.89219745],\n",
       "       [0.88719561, 0.11280439],\n",
       "       [0.36505405, 0.63494595],\n",
       "       [0.71706948, 0.28293052],\n",
       "       [0.74653818, 0.25346182],\n",
       "       [0.66003501, 0.33996499],\n",
       "       [0.67664774, 0.32335226],\n",
       "       [0.90827296, 0.09172704],\n",
       "       [0.60135833, 0.39864167],\n",
       "       [0.72619476, 0.27380524],\n",
       "       [0.58334693, 0.41665307],\n",
       "       [0.16588188, 0.83411812],\n",
       "       [0.25250196, 0.74749804],\n",
       "       [0.60135833, 0.39864167],\n",
       "       [0.7762017 , 0.2237983 ],\n",
       "       [0.70214728, 0.29785272],\n",
       "       [0.67513879, 0.32486121],\n",
       "       [0.88201433, 0.11798567],\n",
       "       [0.4472005 , 0.5527995 ],\n",
       "       [0.55112809, 0.44887191],\n",
       "       [0.75227607, 0.24772393],\n",
       "       [0.80239506, 0.19760494],\n",
       "       [0.43152966, 0.56847034],\n",
       "       [0.9642261 , 0.0357739 ],\n",
       "       [0.7585313 , 0.2414687 ],\n",
       "       [0.32134082, 0.67865918],\n",
       "       [0.76931779, 0.23068221],\n",
       "       [0.30922671, 0.69077329],\n",
       "       [0.81671799, 0.18328201],\n",
       "       [0.79184834, 0.20815166],\n",
       "       [0.26197405, 0.73802595],\n",
       "       [0.72285215, 0.27714785],\n",
       "       [0.12552664, 0.87447336],\n",
       "       [0.98656953, 0.01343047],\n",
       "       [0.45392681, 0.54607319],\n",
       "       [0.87900774, 0.12099226],\n",
       "       [0.02605569, 0.97394431],\n",
       "       [0.86864828, 0.13135172],\n",
       "       [0.26802143, 0.73197857],\n",
       "       [0.70781764, 0.29218236],\n",
       "       [0.2474127 , 0.7525873 ],\n",
       "       [0.80450804, 0.19549196],\n",
       "       [0.58255775, 0.41744225],\n",
       "       [0.2331267 , 0.7668733 ],\n",
       "       [0.24872919, 0.75127081],\n",
       "       [0.14204066, 0.85795934],\n",
       "       [0.15670387, 0.84329613],\n",
       "       [0.71706948, 0.28293052],\n",
       "       [0.12204173, 0.87795827],\n",
       "       [0.95665228, 0.04334772],\n",
       "       [0.57179062, 0.42820938],\n",
       "       [0.81153163, 0.18846837],\n",
       "       [0.53796244, 0.46203756],\n",
       "       [0.25250196, 0.74749804],\n",
       "       [0.87147512, 0.12852488],\n",
       "       [0.92744832, 0.07255168],\n",
       "       [0.8648573 , 0.1351427 ],\n",
       "       [0.59409948, 0.40590052],\n",
       "       [0.2824072 , 0.7175928 ],\n",
       "       [0.83523228, 0.16476772],\n",
       "       [0.65863587, 0.34136413],\n",
       "       [0.91487417, 0.08512583],\n",
       "       [0.26219853, 0.73780147],\n",
       "       [0.79184834, 0.20815166],\n",
       "       [0.97440929, 0.02559071],\n",
       "       [0.2474127 , 0.7525873 ],\n",
       "       [0.82385933, 0.17614067],\n",
       "       [0.2824072 , 0.7175928 ],\n",
       "       [0.55043259, 0.44956741],\n",
       "       [0.8532667 , 0.1467333 ],\n",
       "       [0.84855583, 0.15144417],\n",
       "       [0.34176375, 0.65823625],\n",
       "       [0.99267602, 0.00732398],\n",
       "       [0.88066792, 0.11933208],\n",
       "       [0.74595609, 0.25404391],\n",
       "       [0.92529337, 0.07470663],\n",
       "       [0.72988261, 0.27011739],\n",
       "       [0.49958119, 0.50041881],\n",
       "       [0.99267602, 0.00732398],\n",
       "       [0.71706948, 0.28293052],\n",
       "       [0.56862491, 0.43137509],\n",
       "       [0.25250196, 0.74749804],\n",
       "       [0.07949697, 0.92050303],\n",
       "       [0.73551524, 0.26448476],\n",
       "       [0.40124436, 0.59875564],\n",
       "       [0.85209442, 0.14790558],\n",
       "       [0.15605569, 0.84394431],\n",
       "       [0.74595609, 0.25404391],\n",
       "       [0.72752599, 0.27247401],\n",
       "       [0.65485572, 0.34514428],\n",
       "       [0.94231628, 0.05768372],\n",
       "       [0.99267602, 0.00732398],\n",
       "       [0.71706948, 0.28293052],\n",
       "       [0.58255775, 0.41744225],\n",
       "       [0.89482495, 0.10517505],\n",
       "       [0.55617954, 0.44382046],\n",
       "       [0.54259814, 0.45740186],\n",
       "       [0.43236637, 0.56763363],\n",
       "       [0.65784138, 0.34215862],\n",
       "       [0.92083437, 0.07916563],\n",
       "       [0.66076196, 0.33923804],\n",
       "       [0.66808028, 0.33191972],\n",
       "       [0.16522408, 0.83477592],\n",
       "       [0.44066667, 0.55933333],\n",
       "       [0.00343434, 0.99656566],\n",
       "       [0.60865853, 0.39134147],\n",
       "       [0.00605569, 0.99394431],\n",
       "       [0.20260186, 0.79739814],\n",
       "       [0.95219465, 0.04780535],\n",
       "       [0.74108371, 0.25891629],\n",
       "       [0.77410963, 0.22589037],\n",
       "       [0.98267602, 0.01732398],\n",
       "       [0.61267487, 0.38732513],\n",
       "       [0.74557362, 0.25442638],\n",
       "       [0.56497227, 0.43502773],\n",
       "       [0.28261682, 0.71738318],\n",
       "       [0.47973573, 0.52026427],\n",
       "       [0.69251176, 0.30748824],\n",
       "       [0.81861085, 0.18138915],\n",
       "       [0.71706948, 0.28293052],\n",
       "       [0.65091321, 0.34908679]])"
      ]
     },
     "execution_count": 592,
     "metadata": {},
     "output_type": "execute_result"
    }
   ],
   "source": [
    "model6.predict_proba(X_test)"
   ]
  },
  {
   "cell_type": "code",
   "execution_count": null,
   "id": "4f78587c",
   "metadata": {},
   "outputs": [],
   "source": [
    "imp_words = model6.feature_importances_"
   ]
  },
  {
   "cell_type": "code",
   "execution_count": null,
   "id": "a618d066",
   "metadata": {},
   "outputs": [],
   "source": [
    "ind = imp_words.argsort()[200:]"
   ]
  },
  {
   "cell_type": "code",
   "execution_count": null,
   "id": "389d2e2d",
   "metadata": {
    "scrolled": true
   },
   "outputs": [
    {
     "data": {
      "text/plain": [
       "array(['feel', 'getting', 'required', 'far', 'gap', 'release', 'included',\n",
       "       'long', 'continue', 'project', 'seen', 'troubleshoot', 'effective',\n",
       "       'nice', 'like', 'one', 'low', 'winning', 'waiting', 'recently',\n",
       "       'behavior', 'strong', 'compared', 'deal', 'consistent',\n",
       "       'licensing', 'team', 'use', 'competitor', 'competitive',\n",
       "       'engineering', 'clear', 'experience', 'oriented', 'delivery',\n",
       "       'scalable', 'network', 'defined', 'upgrade', 'fixed',\n",
       "       'complicated', 'software', 'pricing', 'menu', 'implement', 'case',\n",
       "       'improved', 'value', 'new', 'satisfied', 'multi', 'roadmap',\n",
       "       'slow', 'stable', 'little', 'written', 'overall', 'set', 'similar',\n",
       "       'fine', 'working', 'standard', 'money', 'high', 'buggy',\n",
       "       'hardware', 'model', 'price', 'lot', 'better', 'varied', 'best',\n",
       "       'scale', 'platform', 'box', 'problem', 'service', 'documentation',\n",
       "       'expected', 'quality', 'work', 'document', 'outcome', 'need',\n",
       "       'missing', 'result', 'feature', 'bug', 'excellent', 'support',\n",
       "       'customer', 'no', 'not', 'product', 'issue', 'well', 'lack',\n",
       "       'great', 'many', 'good'], dtype=object)"
      ]
     },
     "execution_count": 595,
     "metadata": {},
     "output_type": "execute_result"
    }
   ],
   "source": [
    "word_features[ind]"
   ]
  },
  {
   "cell_type": "markdown",
   "id": "0f6df679",
   "metadata": {},
   "source": [
    "We varied the parameters of the Random Forest and in the end, Random forest of 100 trees, each with a maximum depth of 50 performs very well, at par with SVM. Random forest is also a very interpretable algorithm and training an RF Classifier gives us a probabilistic estimate of Sentiment of each review. We can also isolate the top 50 or top 100 features (here words) that are most significant in a review, according to the classifier.\\\n",
    "Predictably these contain words like *'good'*, *'lack'* and *'bug'*."
   ]
  },
  {
   "cell_type": "markdown",
   "id": "bae1aa48",
   "metadata": {},
   "source": [
    "## XGBoost classifier  <a class ='anchor' id=\"tenth-bullet\"></a>"
   ]
  },
  {
   "cell_type": "code",
   "execution_count": null,
   "id": "4a96f2cd",
   "metadata": {},
   "outputs": [],
   "source": [
    "from sklearn.ensemble import GradientBoostingClassifier"
   ]
  },
  {
   "cell_type": "code",
   "execution_count": null,
   "id": "884ab3f3",
   "metadata": {},
   "outputs": [],
   "source": [
    "xgbclassifier = GradientBoostingClassifier(n_estimators = 250,max_depth = 45, random_state = 0)"
   ]
  },
  {
   "cell_type": "code",
   "execution_count": null,
   "id": "0af0e66e",
   "metadata": {},
   "outputs": [],
   "source": [
    "model7 = xgbclassifier.fit(X_tfidf, sentiments)"
   ]
  },
  {
   "cell_type": "code",
   "execution_count": null,
   "id": "286bd6f1",
   "metadata": {},
   "outputs": [
    {
     "data": {
      "text/plain": [
       "array([[201,   1],\n",
       "       [ 12, 173]], dtype=int64)"
      ]
     },
     "execution_count": 599,
     "metadata": {},
     "output_type": "execute_result"
    }
   ],
   "source": [
    "confusion_matrix(model7.predict(X_tfidf),sentiments)"
   ]
  },
  {
   "cell_type": "code",
   "execution_count": null,
   "id": "5ae4740f",
   "metadata": {},
   "outputs": [
    {
     "name": "stdout",
     "output_type": "stream",
     "text": [
      "accuracy_score on training data is:0.9664082687338501\n"
     ]
    }
   ],
   "source": [
    "print('accuracy_score on training data is:'+str(accuracy_score(model7.predict(X_tfidf),sentiments)))"
   ]
  },
  {
   "cell_type": "code",
   "execution_count": null,
   "id": "1e10c7d6",
   "metadata": {},
   "outputs": [
    {
     "data": {
      "text/plain": [
       "array([[68,  6],\n",
       "       [22, 34]], dtype=int64)"
      ]
     },
     "execution_count": 601,
     "metadata": {},
     "output_type": "execute_result"
    }
   ],
   "source": [
    "confusion_matrix(model7.predict(X_test),sentiments_test)"
   ]
  },
  {
   "cell_type": "code",
   "execution_count": null,
   "id": "a0d7b463",
   "metadata": {},
   "outputs": [
    {
     "name": "stdout",
     "output_type": "stream",
     "text": [
      "accuracy_score on testing data is:0.7846153846153846\n"
     ]
    }
   ],
   "source": [
    "print('accuracy_score on testing data is:'+str(accuracy_score(model7.predict(X_test),sentiments_test)))"
   ]
  },
  {
   "cell_type": "code",
   "execution_count": null,
   "id": "878edbba",
   "metadata": {},
   "outputs": [
    {
     "name": "stdout",
     "output_type": "stream",
     "text": [
      "f1_score on training data is :0.9637883008356545\n"
     ]
    }
   ],
   "source": [
    "print('f1_score on training data is :' + str(f1_score(model7.predict(X_tfidf),sentiments)))"
   ]
  },
  {
   "cell_type": "code",
   "execution_count": null,
   "id": "bb3a3045",
   "metadata": {},
   "outputs": [
    {
     "name": "stdout",
     "output_type": "stream",
     "text": [
      "f1_score on testing data is :0.7083333333333333\n"
     ]
    }
   ],
   "source": [
    "print('f1_score on testing data is :' + str(f1_score(model7.predict(X_test),sentiments_test)))"
   ]
  },
  {
   "cell_type": "code",
   "execution_count": null,
   "id": "7a142b1d",
   "metadata": {},
   "outputs": [
    {
     "data": {
      "text/plain": [
       "array([[9.68381864e-01, 3.16181362e-02],\n",
       "       [4.00002861e-01, 5.99997139e-01],\n",
       "       [7.90313005e-02, 9.20968699e-01],\n",
       "       [9.99999995e-01, 5.12586089e-09],\n",
       "       [4.99999695e-01, 5.00000305e-01],\n",
       "       [2.29594146e-01, 7.70405854e-01],\n",
       "       [4.00002861e-01, 5.99997139e-01],\n",
       "       [4.00002861e-01, 5.99997139e-01],\n",
       "       [4.91456431e-10, 1.00000000e+00],\n",
       "       [3.18479533e-08, 9.99999968e-01]])"
      ]
     },
     "execution_count": 605,
     "metadata": {},
     "output_type": "execute_result"
    }
   ],
   "source": [
    "model7.predict_proba(X_test)[:10]"
   ]
  },
  {
   "cell_type": "code",
   "execution_count": null,
   "id": "796d2239",
   "metadata": {},
   "outputs": [],
   "source": [
    "prediction_sol = pd.DataFrame({'prediction':model7.predict(X_test)})"
   ]
  },
  {
   "cell_type": "code",
   "execution_count": null,
   "id": "588bdf4a",
   "metadata": {},
   "outputs": [],
   "source": [
    "train_pred = pd.DataFrame({'prediction':model7.predict(X_tfidf)})"
   ]
  },
  {
   "cell_type": "code",
   "execution_count": null,
   "id": "40aaf820",
   "metadata": {},
   "outputs": [
    {
     "data": {
      "text/html": [
       "<div>\n",
       "<style scoped>\n",
       "    .dataframe tbody tr th:only-of-type {\n",
       "        vertical-align: middle;\n",
       "    }\n",
       "\n",
       "    .dataframe tbody tr th {\n",
       "        vertical-align: top;\n",
       "    }\n",
       "\n",
       "    .dataframe thead th {\n",
       "        text-align: right;\n",
       "    }\n",
       "</style>\n",
       "<table border=\"1\" class=\"dataframe\">\n",
       "  <thead>\n",
       "    <tr style=\"text-align: right;\">\n",
       "      <th></th>\n",
       "      <th>prediction</th>\n",
       "    </tr>\n",
       "  </thead>\n",
       "  <tbody>\n",
       "    <tr>\n",
       "      <th>0</th>\n",
       "      <td>0</td>\n",
       "    </tr>\n",
       "    <tr>\n",
       "      <th>1</th>\n",
       "      <td>1</td>\n",
       "    </tr>\n",
       "    <tr>\n",
       "      <th>2</th>\n",
       "      <td>1</td>\n",
       "    </tr>\n",
       "    <tr>\n",
       "      <th>3</th>\n",
       "      <td>0</td>\n",
       "    </tr>\n",
       "    <tr>\n",
       "      <th>4</th>\n",
       "      <td>1</td>\n",
       "    </tr>\n",
       "    <tr>\n",
       "      <th>...</th>\n",
       "      <td>...</td>\n",
       "    </tr>\n",
       "    <tr>\n",
       "      <th>125</th>\n",
       "      <td>1</td>\n",
       "    </tr>\n",
       "    <tr>\n",
       "      <th>126</th>\n",
       "      <td>0</td>\n",
       "    </tr>\n",
       "    <tr>\n",
       "      <th>127</th>\n",
       "      <td>0</td>\n",
       "    </tr>\n",
       "    <tr>\n",
       "      <th>128</th>\n",
       "      <td>1</td>\n",
       "    </tr>\n",
       "    <tr>\n",
       "      <th>129</th>\n",
       "      <td>0</td>\n",
       "    </tr>\n",
       "  </tbody>\n",
       "</table>\n",
       "<p>130 rows × 1 columns</p>\n",
       "</div>"
      ],
      "text/plain": [
       "     prediction\n",
       "0             0\n",
       "1             1\n",
       "2             1\n",
       "3             0\n",
       "4             1\n",
       "..          ...\n",
       "125           1\n",
       "126           0\n",
       "127           0\n",
       "128           1\n",
       "129           0\n",
       "\n",
       "[130 rows x 1 columns]"
      ]
     },
     "execution_count": 613,
     "metadata": {},
     "output_type": "execute_result"
    }
   ],
   "source": [
    "prediction_sol"
   ]
  },
  {
   "cell_type": "code",
   "execution_count": null,
   "id": "5cda60db",
   "metadata": {},
   "outputs": [],
   "source": [
    "prediction_sol.to_csv('test_sol.csv')"
   ]
  },
  {
   "cell_type": "code",
   "execution_count": null,
   "id": "d936ffd0",
   "metadata": {},
   "outputs": [],
   "source": [
    "train_pred.to_csv('train_sol.csv')"
   ]
  },
  {
   "cell_type": "code",
   "execution_count": null,
   "id": "63922857",
   "metadata": {},
   "outputs": [],
   "source": [
    "imp_words_xgb = model7.feature_importances_"
   ]
  },
  {
   "cell_type": "code",
   "execution_count": null,
   "id": "0506bfa2",
   "metadata": {},
   "outputs": [],
   "source": [
    "ind_xgb = imp_words_xgb.argsort()[250:]"
   ]
  },
  {
   "cell_type": "code",
   "execution_count": null,
   "id": "fa0aacc5",
   "metadata": {},
   "outputs": [
    {
     "name": "stdout",
     "output_type": "stream",
     "text": [
      "These are the 50 most significant words in a review: ['documentation' 'high' 'scalable' 'set' 'hardware' 'need' 'winning'\n",
      " 'defined' 'implement' 'gap' 'network' 'platform' 'roadmap' 'fixed' 'one'\n",
      " 'team' 'behavior' 'service' 'stable' 'model' 'getting' 'little'\n",
      " 'continue' 'feature' 'fine' 'similar' 'varied' 'written' 'box' 'missing'\n",
      " 'better' 'price' 'outcome' 'document' 'expected' 'best' 'result'\n",
      " 'product' 'scale' 'customer' 'no' 'support' 'excellent' 'great' 'not'\n",
      " 'well' 'issue' 'lack' 'many' 'good']\n"
     ]
    }
   ],
   "source": [
    "print('These are the 50 most significant words in a review:',str(word_features[ind_xgb]))"
   ]
  },
  {
   "cell_type": "markdown",
   "id": "72bed633",
   "metadata": {},
   "source": [
    "As expected, the main words include *'good'*, *'issue'* and *'lack'*. XGBoost does not outperform Random Forest on testing data. However, it does better on training data."
   ]
  },
  {
   "cell_type": "markdown",
   "id": "114d8977",
   "metadata": {},
   "source": [
    "## Conclusion <a class = 'anchor' id = 'thirteenth-bullet'></a>"
   ]
  },
  {
   "cell_type": "markdown",
   "id": "8fcdec62",
   "metadata": {},
   "source": [
    "Thus the best model is **XGBoost Model**. However, because  [XGBoost Classifier](#tenth-bullet) is more interpretable and tweakable, we prefer to submit its predictions on the unlabelled test data"
   ]
  },
  {
   "cell_type": "markdown",
   "id": "ad074644",
   "metadata": {},
   "source": [
    "## Summary of negative reviews <a class = 'anchor' id = 'fourteenth-bullet'></a>"
   ]
  },
  {
   "cell_type": "markdown",
   "id": "7fbc26cc",
   "metadata": {},
   "source": [
    "There are three products in the dataset - IX,QK and DX"
   ]
  },
  {
   "cell_type": "code",
   "execution_count": null,
   "id": "a3cc3561",
   "metadata": {},
   "outputs": [
    {
     "data": {
      "text/plain": [
       "array(['IX', 'QK', 'DX'], dtype=object)"
      ]
     },
     "execution_count": 100,
     "metadata": {},
     "output_type": "execute_result"
    }
   ],
   "source": [
    "df.iloc[:,0].unique()"
   ]
  },
  {
   "cell_type": "code",
   "execution_count": null,
   "id": "20f45c49",
   "metadata": {},
   "outputs": [],
   "source": [
    "ix_reviews = df.loc[df.iloc[:,0]=='IX']"
   ]
  },
  {
   "cell_type": "code",
   "execution_count": null,
   "id": "0801b04a",
   "metadata": {},
   "outputs": [],
   "source": [
    "ix_neg = ix_reviews.loc[ix_reviews.iloc[:,3]==0]"
   ]
  },
  {
   "cell_type": "code",
   "execution_count": null,
   "id": "4ddaa6cd",
   "metadata": {},
   "outputs": [],
   "source": [
    "ix_neg_text = ix_neg.iloc[:,2]"
   ]
  },
  {
   "cell_type": "code",
   "execution_count": null,
   "id": "ecfddbf5",
   "metadata": {},
   "outputs": [],
   "source": [
    "ix_neg_text = ' '.join(cleaner(ix_neg_text.tolist()))"
   ]
  },
  {
   "cell_type": "code",
   "execution_count": null,
   "id": "bdf31f2d",
   "metadata": {},
   "outputs": [
    {
     "data": {
      "text/plain": [
       "'  no maintenance menu  buggy  features missing     inter working high price  pre aggregation role not much deployed overall throughput constrained feels like  product   step child  concerned    gone shortly  problem  always  constant   ongoing issues  far few issues reported  far  customer    many bugs  make  difficult  determine whether   software  hardware lacks  documentation  unsupported features  features combinations  not price competitive   market  pre-agg role) low product quality   many troubles  upgrading   many basic defects  hw although  solves  customer challenges  provides  solution   not  cost effective solution   many bugstoo many bugs lack  basic features   lot  bugs   many glitches  many   bugs    low level   poor drop accounting  troubleshooting capabilities  support  pretty much guess work  relying   boxes   network  provide  missing clues  difficulties  troubleshooting  silent reload type issue  think   still bugs     considered lack  testing   software  hardware   improve  dissatisfaction  due  lack  debugability  supportability including documentation  stable release delay endless problems often complicated  make properly work features    common  widespread complicated  work     many bugs  hidden specification restrictions defective hardware need improvement high price point compared  competition  integration required requires lan port  slotting rules   cumbersome too many rules  manual   features   outdated   device  upgrade issues  even  addressed    impact  time  delivering  constant smus  address issues   expected  come   software  customer perception  low   means extra work  concessions   service teams  make  work  no killer feature  helps stand    well established products like  asr9ktoo many smus  features   already   software base  maybe  way  install  without   reload  forwarding engine   router would improve  situation  not many issue observednew product not seen much used  customer insufficient troubleshooting capabilities  serviceability   submit  completely ignored insufficient troubleshooting capabilities  serviceability  poor scalability upgrade required buggy   many bugs compared   logic checking  painful not supporting features indicated   documentation problems  implementation  many feature  command  not support making    difficult product  troubleshoot lack  serviceability  reliability  looks like    many bugs. thoroughly.anyway    many problems   quality   unsuitable  first    many issues   platform. also    debugability feature  troubleshoot  issue. lack  features scalable deal need  licensing model  public sector  utility customers  good support  new features development   box   taking  long time   released  lack  comunication  commitment     price effective limitation  network  team member  fatigue   product lack  proper external documentation  silent reload issues totally instable   enginieering quallity  dropped  lot lack  quality  6.6  7.0  aim   far improved   point.  platform   wide deploy   look   manual    unclear whether  feature  supported not yet tested  live    lab    ok.support documentation needs    effecient.    world non realiable product   ever seen     many defects   think    tested    far   know   seems    worst quality product.  many bugs  something it is quite critical  series  customer     resulted  h/w replacement.    issue  resources buggy'"
      ]
     },
     "execution_count": 105,
     "metadata": {},
     "output_type": "execute_result"
    }
   ],
   "source": [
    "ix_neg_text"
   ]
  },
  {
   "cell_type": "code",
   "execution_count": null,
   "id": "7e16ccbe",
   "metadata": {},
   "outputs": [],
   "source": [
    "from wordcloud import WordCloud, STOPWORDS\n",
    "import matplotlib.pyplot as plt"
   ]
  },
  {
   "cell_type": "code",
   "execution_count": null,
   "id": "c67cf29c",
   "metadata": {},
   "outputs": [],
   "source": [
    "wordcloud_ix = WordCloud(stopwords = []).generate_from_text(ix_neg_text)"
   ]
  },
  {
   "cell_type": "code",
   "execution_count": null,
   "id": "64e8afd3",
   "metadata": {},
   "outputs": [
    {
     "data": {
      "text/plain": [
       "<matplotlib.image.AxesImage at 0x1ddb72632e0>"
      ]
     },
     "execution_count": 109,
     "metadata": {},
     "output_type": "execute_result"
    },
    {
     "data": {
      "image/png": "[encoded data removed]",
      "text/plain": [
       "<Figure size 640x480 with 1 Axes>"
      ]
     },
     "metadata": {},
     "output_type": "display_data"
    }
   ],
   "source": [
    "plt.imshow(wordcloud_ix)"
   ]
  },
  {
   "cell_type": "markdown",
   "id": "81632c9b",
   "metadata": {},
   "source": [
    "The product IX does not have good documentation, it lacks quality features and there are many bugs in it"
   ]
  },
  {
   "cell_type": "code",
   "execution_count": null,
   "id": "30a4fe45",
   "metadata": {},
   "outputs": [],
   "source": [
    "dx_reviews = df.loc[df.iloc[:,0]=='DX']"
   ]
  },
  {
   "cell_type": "code",
   "execution_count": null,
   "id": "8844e724",
   "metadata": {},
   "outputs": [],
   "source": [
    "dx_neg = dx_reviews.loc[dx_reviews.iloc[:,3]==0]"
   ]
  },
  {
   "cell_type": "code",
   "execution_count": null,
   "id": "020ab081",
   "metadata": {},
   "outputs": [],
   "source": [
    "dx_neg_text = dx_neg.iloc[:,2]"
   ]
  },
  {
   "cell_type": "code",
   "execution_count": null,
   "id": "b287e375",
   "metadata": {},
   "outputs": [],
   "source": [
    "dx_neg_text = ' '.join(cleaner(dx_neg_text.tolist()))"
   ]
  },
  {
   "cell_type": "code",
   "execution_count": null,
   "id": "9ce416ee",
   "metadata": {
    "collapsed": true
   },
   "outputs": [
    {
     "data": {
      "text/plain": [
       "' isno partner maintenance menu  experience    problem  issues software quality issues missing evolution path new features  back  forth even  not significant changes weakness  cab requirements story  missing minimum requirements   dialed  things like lack  xyz   challenge sometimes  challenge  implement documentation  not  clear  it different hw  different features  even clis  usually put    documentation   quality   documentation  constantly falling behind  feel   need    competitive  price  executive lead times; error documentation  misleading  resulting  feature gap) false positive   compliance  potential software upgrade rejection  lack  several features  buggy   need  long  close issues  timing slow  inconsistent validation scaling issuesissues  scale  put license cannot  shared    hardware documents incomplete   hardly  tools  help troubleshoot  issue   platform    heard  folks    costly box  limited feature set. nowadays experiencing lot  issues    harder  troubleshoot   disadvantage still hit  many bugs  become  driver   limitation    design  deploy bugs  different     many bugs  make  difficult  determine whether   software  hardware way  way  buggy  would  buy  car  needs  go   shop every single week  get fixed ?  lack  sw quality. hard  get information  detail information root cause  unknown '"
      ]
     },
     "execution_count": 114,
     "metadata": {},
     "output_type": "execute_result"
    }
   ],
   "source": [
    "dx_neg_text"
   ]
  },
  {
   "cell_type": "code",
   "execution_count": null,
   "id": "595406a2",
   "metadata": {},
   "outputs": [],
   "source": [
    "wordcloud_dx = WordCloud(stopwords = []).generate_from_text(dx_neg_text)"
   ]
  },
  {
   "cell_type": "code",
   "execution_count": null,
   "id": "cf036af2",
   "metadata": {},
   "outputs": [
    {
     "data": {
      "text/plain": [
       "<matplotlib.image.AxesImage at 0x1ddb73c28f0>"
      ]
     },
     "execution_count": 116,
     "metadata": {},
     "output_type": "execute_result"
    },
    {
     "data": {
      "image/png": "[encoded data removed]",
      "text/plain": [
       "<Figure size 640x480 with 1 Axes>"
      ]
     },
     "metadata": {},
     "output_type": "display_data"
    }
   ],
   "source": [
    "plt.imshow(wordcloud_dx)"
   ]
  },
  {
   "cell_type": "markdown",
   "id": "8ad63852",
   "metadata": {},
   "source": [
    "In DX product the issues are missing or insufficientfeatures, bad documentation and many bugs"
   ]
  },
  {
   "cell_type": "code",
   "execution_count": null,
   "id": "f7c7a32e",
   "metadata": {},
   "outputs": [],
   "source": [
    "qk_reviews = df.loc[df.iloc[:,0]=='QK']"
   ]
  },
  {
   "cell_type": "code",
   "execution_count": null,
   "id": "8684566a",
   "metadata": {},
   "outputs": [],
   "source": [
    "qk_neg = qk_reviews.loc[qk_reviews.iloc[:,3]==0]"
   ]
  },
  {
   "cell_type": "code",
   "execution_count": null,
   "id": "d2d394e9",
   "metadata": {},
   "outputs": [],
   "source": [
    "qk_neg_text = qk_neg.iloc[:,2]"
   ]
  },
  {
   "cell_type": "code",
   "execution_count": null,
   "id": "00e80ff1",
   "metadata": {},
   "outputs": [],
   "source": [
    "qk_neg_text = ' '.join(cleaner(qk_neg_text.tolist()))"
   ]
  },
  {
   "cell_type": "code",
   "execution_count": null,
   "id": "53bf15c6",
   "metadata": {
    "collapsed": true
   },
   "outputs": [
    {
     "data": {
      "text/plain": [
       "\"  no partner maintenance menu sw quality   low   cannot meet  customer's expectation. missing feat support   newer router build weakness  cab requirements   many miss alignment  code issue missing features  quality   documentation  constantly falling behind need  fix supply chain  twelve month lead times  killing us  moderate service quality low product quality multiple technical  hw issues multiple timing  system upgrade issues slow  inconsistent executive lead times slow no information      inter working  image   certain customer getting angry   regular basis services features  rather slow   heard  folks    costly box  limited feature set. provide  parity compared  xyz lots  bugs silent reload issuessilent reload issues   cannot apply workaround   many bugs  make  difficult  determine whether   software  hardwaret software quality  not good   many bugs it is  unstable  general  port issues  hard  explain  behavior  smart licensing     lot  bad issues many test  realetd  failures better upgrade/downgrade  boot documentation  step  step details lacks  documentation  unsupported features  features combinations many bugs  many issues lot  issues j umping  one bug  another lots  missing feature release delayed  software quality  many deviations  models  silent reload issue delays  features   potentially getting   not   customer expectations port allocation  not met customer requirements customers like  box  customer  issues  smart management smart licensing  not work well need  optics qualification  synergy   platforms needs  test  boxes properly  poor drop accounting  troubleshooting capabilities  support  pretty much  critical features missing improvement needed lack  official documentation  supported features  quality needs   improved  think   still bugs     considered lack  testing  frequent occurrence  work due  defective hardware dissatisfaction  due  lack  debugability  supportability many defective products issues  buggy documentation issue not reliable one   customer  come across  problem  problems   chip rest  perfect many feature gap issues  buggy price point hit  roadmap timelines  instructor lack presentation silent reboots  crashes due  poor implementation  changes  require customer extra work    in  cases) impossible  determine exactly  many  needed day-0. still complicated customer  encountered  issues  many variants confuse customers  make  difficult  win business  competitorstoo many variants scalability  hidden feature limitsclear documentation compared   logic checking  painful cu  really  not happy cheaper  lot  issue lack  serviceability  reliability   least properly documented unstable product   lot  software  hardware issue. also scaling issues similar  fretta platform.hardware  software   unstable lots  issue  wasnt smooth process  device went down  router took long time  upgrade software    lose  projects missing features   competition    customer needs platform   limited  many ways good fitting platformperformance weak multicast implementationvery slow  limited roadmap execution  many bugs  feature unstable unique features missing support   basic features   required   customer documentation still needs workaround complicates overall upgrade process    shift  understanding  not clearly explained  documented.better documentation  clearer messaging hardware slowness  observed difficult  troubleshoot  complexity lack  service menu lack  proper external documentation  silent reload issues hardware quality corrupt issue function  not good box feels different  configuring it  tends  cause grief   missing component missing parts  overall good product customer starts    issues need approachable solution lack  service menu customer   progress    many issues multicast profile support not avaiable many bugs introduce   feature release  feature parity need   aligned uninteresting gui totally instable   enginieering quallity  dropped  lot lack  work around   platform   wide deploy  trigger lots  escalations\""
      ]
     },
     "execution_count": 121,
     "metadata": {},
     "output_type": "execute_result"
    }
   ],
   "source": [
    "qk_neg_text"
   ]
  },
  {
   "cell_type": "code",
   "execution_count": null,
   "id": "103e53fa",
   "metadata": {},
   "outputs": [],
   "source": [
    "wordcloud_qk = WordCloud(stopwords = []).generate_from_text(qk_neg_text)"
   ]
  },
  {
   "cell_type": "code",
   "execution_count": null,
   "id": "c8d1fb7d",
   "metadata": {},
   "outputs": [
    {
     "data": {
      "text/plain": [
       "<matplotlib.image.AxesImage at 0x1ddb78867a0>"
      ]
     },
     "execution_count": 123,
     "metadata": {},
     "output_type": "execute_result"
    },
    {
     "data": {
      "image/png": "[encoded data removed]",
      "text/plain": [
       "<Figure size 640x480 with 1 Axes>"
      ]
     },
     "metadata": {},
     "output_type": "display_data"
    }
   ],
   "source": [
    "plt.imshow(wordcloud_qk)"
   ]
  },
  {
   "cell_type": "markdown",
   "id": "7bf2485c",
   "metadata": {},
   "source": [
    "The QK product again has insufficient features, bad documentation and software and hardware problems. The customers is reporting many issues"
   ]
  },
  {
   "cell_type": "markdown",
   "id": "f3a8dc15",
   "metadata": {},
   "source": [
    "**Summary**"
   ]
  },
  {
   "cell_type": "markdown",
   "id": "7048e4d9",
   "metadata": {},
   "source": [
    "The three products have three main issues:\n",
    "1. Lack of important features and bad quality of features\n",
    "2. Bad documentation\n",
    "3. Many bugs\n"
   ]
  },
  {
   "cell_type": "code",
   "execution_count": null,
   "id": "3211192e",
   "metadata": {},
   "outputs": [],
   "source": []
  }
 ],
 "metadata": {
  "kernelspec": {
   "display_name": "Python 3 (ipykernel)",
   "language": "python",
   "name": "python3"
  },
  "language_info": {
   "codemirror_mode": {
    "name": "ipython",
    "version": 3
   },
   "file_extension": ".py",
   "mimetype": "text/x-python",
   "name": "python",
   "nbconvert_exporter": "python",
   "pygments_lexer": "ipython3",
   "version": "3.10.9"
  }
 },
 "nbformat": 4,
 "nbformat_minor": 5
}
